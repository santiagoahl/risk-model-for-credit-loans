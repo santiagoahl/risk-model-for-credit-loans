{
 "cells": [
  {
   "cell_type": "markdown",
   "id": "6d8d0d0d",
   "metadata": {},
   "source": [
    "# Risk Estimation"
   ]
  },
  {
   "cell_type": "markdown",
   "id": "b29588cf",
   "metadata": {},
   "source": [
    "### Setup"
   ]
  },
  {
   "cell_type": "code",
   "execution_count": 43,
   "id": "73839af8",
   "metadata": {},
   "outputs": [],
   "source": [
    "import numpy as np\n",
    "import pandas as pd\n",
    "import matplotlib.pyplot as plt\n",
    "import seaborn as sns\n",
    "import os\n",
    "import warnings\n",
    "\n",
    "# Ignorar todos los warnings\n",
    "warnings.filterwarnings('ignore')\n",
    "sns.set(style='darkgrid', palette='deep')"
   ]
  },
  {
   "cell_type": "code",
   "execution_count": 44,
   "id": "61c60565",
   "metadata": {},
   "outputs": [],
   "source": [
    "# Paths\n",
    "\n",
    "root_path = \"../\"\n",
    "data_path = os.path.join(root_path, \"data/\")\n",
    "historical_data_path = os.path.join(data_path, \"Historicos.csv\")\n",
    "current_data_path = os.path.join(data_path, \"Vigentes.csv\")\n",
    "\n",
    "output_data_path = os.path.join(data_path, \"risk_probabilities.xlsx\")"
   ]
  },
  {
   "cell_type": "markdown",
   "id": "9f1bacab",
   "metadata": {},
   "source": [
    "### Import Data"
   ]
  },
  {
   "cell_type": "code",
   "execution_count": 45,
   "id": "7cd09d5a",
   "metadata": {},
   "outputs": [],
   "source": [
    "df = pd.read_csv(historical_data_path)"
   ]
  },
  {
   "cell_type": "code",
   "execution_count": 46,
   "id": "6c026a13",
   "metadata": {},
   "outputs": [
    {
     "data": {
      "application/vnd.microsoft.datawrangler.viewer.v0+json": {
       "columns": [
        {
         "name": "index",
         "rawType": "int64",
         "type": "integer"
        },
        {
         "name": "ID",
         "rawType": "int64",
         "type": "integer"
        },
        {
         "name": "education",
         "rawType": "object",
         "type": "string"
        },
        {
         "name": "city",
         "rawType": "object",
         "type": "string"
        },
        {
         "name": "monthly_income",
         "rawType": "float64",
         "type": "float"
        },
        {
         "name": "current_assets",
         "rawType": "float64",
         "type": "float"
        },
        {
         "name": "credit_score",
         "rawType": "int64",
         "type": "integer"
        },
        {
         "name": "Monto",
         "rawType": "object",
         "type": "string"
        },
        {
         "name": "paid_in_full",
         "rawType": "int64",
         "type": "integer"
        },
        {
         "name": "loss",
         "rawType": "object",
         "type": "string"
        }
       ],
       "conversionMethod": "pd.DataFrame",
       "ref": "3c0a19c1-ce50-4fb6-ae0e-e81a830743ee",
       "rows": [
        [
         "0",
         "3822088719",
         "undergraduate",
         "Medellin",
         "11474.07",
         "40530.37",
         "611",
         "$ 6,599,489",
         "0",
         "$ 0"
        ],
        [
         "1",
         "5431270632",
         "phd",
         "Medellin",
         "16686.98",
         "61403.51",
         "765",
         "$ 7,466,025",
         "1",
         "$ 5,606,767"
        ],
        [
         "2",
         "2919928231",
         "undergraduate",
         "Cali",
         "9928.97",
         "51321.42",
         "542",
         "$ 13,410,229",
         "0",
         "$ 0"
        ],
        [
         "3",
         "3952534684",
         "undergraduate",
         "Bucaramanga",
         "11331.48",
         "23544.06",
         "619",
         "$ 17,369,018",
         "1",
         "$ 9,059,520"
        ],
        [
         "4",
         "5160944656",
         "phd",
         "Bogota",
         "10146.78",
         "27220.55",
         "654",
         "$ 2,493,060",
         "0",
         "$ 0"
        ]
       ],
       "shape": {
        "columns": 9,
        "rows": 5
       }
      },
      "text/html": [
       "<div>\n",
       "<style scoped>\n",
       "    .dataframe tbody tr th:only-of-type {\n",
       "        vertical-align: middle;\n",
       "    }\n",
       "\n",
       "    .dataframe tbody tr th {\n",
       "        vertical-align: top;\n",
       "    }\n",
       "\n",
       "    .dataframe thead th {\n",
       "        text-align: right;\n",
       "    }\n",
       "</style>\n",
       "<table border=\"1\" class=\"dataframe\">\n",
       "  <thead>\n",
       "    <tr style=\"text-align: right;\">\n",
       "      <th></th>\n",
       "      <th>ID</th>\n",
       "      <th>education</th>\n",
       "      <th>city</th>\n",
       "      <th>monthly_income</th>\n",
       "      <th>current_assets</th>\n",
       "      <th>credit_score</th>\n",
       "      <th>Monto</th>\n",
       "      <th>paid_in_full</th>\n",
       "      <th>loss</th>\n",
       "    </tr>\n",
       "  </thead>\n",
       "  <tbody>\n",
       "    <tr>\n",
       "      <th>0</th>\n",
       "      <td>3822088719</td>\n",
       "      <td>undergraduate</td>\n",
       "      <td>Medellin</td>\n",
       "      <td>11474.07</td>\n",
       "      <td>40530.37</td>\n",
       "      <td>611</td>\n",
       "      <td>$ 6,599,489</td>\n",
       "      <td>0</td>\n",
       "      <td>$ 0</td>\n",
       "    </tr>\n",
       "    <tr>\n",
       "      <th>1</th>\n",
       "      <td>5431270632</td>\n",
       "      <td>phd</td>\n",
       "      <td>Medellin</td>\n",
       "      <td>16686.98</td>\n",
       "      <td>61403.51</td>\n",
       "      <td>765</td>\n",
       "      <td>$ 7,466,025</td>\n",
       "      <td>1</td>\n",
       "      <td>$ 5,606,767</td>\n",
       "    </tr>\n",
       "    <tr>\n",
       "      <th>2</th>\n",
       "      <td>2919928231</td>\n",
       "      <td>undergraduate</td>\n",
       "      <td>Cali</td>\n",
       "      <td>9928.97</td>\n",
       "      <td>51321.42</td>\n",
       "      <td>542</td>\n",
       "      <td>$ 13,410,229</td>\n",
       "      <td>0</td>\n",
       "      <td>$ 0</td>\n",
       "    </tr>\n",
       "    <tr>\n",
       "      <th>3</th>\n",
       "      <td>3952534684</td>\n",
       "      <td>undergraduate</td>\n",
       "      <td>Bucaramanga</td>\n",
       "      <td>11331.48</td>\n",
       "      <td>23544.06</td>\n",
       "      <td>619</td>\n",
       "      <td>$ 17,369,018</td>\n",
       "      <td>1</td>\n",
       "      <td>$ 9,059,520</td>\n",
       "    </tr>\n",
       "    <tr>\n",
       "      <th>4</th>\n",
       "      <td>5160944656</td>\n",
       "      <td>phd</td>\n",
       "      <td>Bogota</td>\n",
       "      <td>10146.78</td>\n",
       "      <td>27220.55</td>\n",
       "      <td>654</td>\n",
       "      <td>$ 2,493,060</td>\n",
       "      <td>0</td>\n",
       "      <td>$ 0</td>\n",
       "    </tr>\n",
       "  </tbody>\n",
       "</table>\n",
       "</div>"
      ],
      "text/plain": [
       "           ID      education         city  monthly_income  current_assets  \\\n",
       "0  3822088719  undergraduate     Medellin        11474.07        40530.37   \n",
       "1  5431270632            phd     Medellin        16686.98        61403.51   \n",
       "2  2919928231  undergraduate         Cali         9928.97        51321.42   \n",
       "3  3952534684  undergraduate  Bucaramanga        11331.48        23544.06   \n",
       "4  5160944656            phd       Bogota        10146.78        27220.55   \n",
       "\n",
       "   credit_score         Monto  paid_in_full         loss  \n",
       "0           611   $ 6,599,489             0          $ 0  \n",
       "1           765   $ 7,466,025             1  $ 5,606,767  \n",
       "2           542  $ 13,410,229             0          $ 0  \n",
       "3           619  $ 17,369,018             1  $ 9,059,520  \n",
       "4           654   $ 2,493,060             0          $ 0  "
      ]
     },
     "execution_count": 46,
     "metadata": {},
     "output_type": "execute_result"
    }
   ],
   "source": [
    "df.head()"
   ]
  },
  {
   "cell_type": "markdown",
   "id": "5bf2ec1c",
   "metadata": {
    "vscode": {
     "languageId": "plaintext"
    }
   },
   "source": [
    "### EDA"
   ]
  },
  {
   "cell_type": "markdown",
   "id": "aab365c4",
   "metadata": {},
   "source": [
    "Tipos de datos"
   ]
  },
  {
   "cell_type": "code",
   "execution_count": 47,
   "id": "97e61768",
   "metadata": {},
   "outputs": [
    {
     "name": "stdout",
     "output_type": "stream",
     "text": [
      "<class 'pandas.core.frame.DataFrame'>\n",
      "RangeIndex: 700 entries, 0 to 699\n",
      "Data columns (total 9 columns):\n",
      " #   Column          Non-Null Count  Dtype  \n",
      "---  ------          --------------  -----  \n",
      " 0   ID              700 non-null    int64  \n",
      " 1   education       700 non-null    object \n",
      " 2   city            700 non-null    object \n",
      " 3   monthly_income  700 non-null    float64\n",
      " 4   current_assets  700 non-null    float64\n",
      " 5   credit_score    700 non-null    int64  \n",
      " 6   Monto           700 non-null    object \n",
      " 7   paid_in_full    700 non-null    int64  \n",
      " 8   loss            700 non-null    object \n",
      "dtypes: float64(2), int64(3), object(4)\n",
      "memory usage: 49.3+ KB\n"
     ]
    }
   ],
   "source": [
    "df.info()"
   ]
  },
  {
   "cell_type": "code",
   "execution_count": 48,
   "id": "1cb3ceef",
   "metadata": {},
   "outputs": [
    {
     "data": {
      "text/plain": [
       "Index(['ID', 'education', 'city', 'monthly_income', 'current_assets',\n",
       "       'credit_score', 'Monto', 'paid_in_full', 'loss'],\n",
       "      dtype='object')"
      ]
     },
     "execution_count": 48,
     "metadata": {},
     "output_type": "execute_result"
    }
   ],
   "source": [
    "df.columns"
   ]
  },
  {
   "cell_type": "code",
   "execution_count": 49,
   "id": "1d226729",
   "metadata": {},
   "outputs": [
    {
     "data": {
      "image/png": "[encoded data removed]",
      "text/plain": [
       "<Figure size 1161.75x1000 with 14 Axes>"
      ]
     },
     "metadata": {},
     "output_type": "display_data"
    }
   ],
   "source": [
    "sns.pairplot(data=df[['city', 'monthly_income', 'current_assets','credit_score', 'Monto', 'paid_in_full', 'loss']], corner=True, hue=\"city\")\n",
    "plt.suptitle(\"Distribucion de variables - Provision de crédito por ciudad\")\n",
    "plt.savefig(\"../images/city_level_loans.png\", format=\"png\")\n",
    "plt.show()"
   ]
  },
  {
   "cell_type": "code",
   "execution_count": 100,
   "id": "0ead2339",
   "metadata": {},
   "outputs": [],
   "source": [
    "approvals_df = df[[\"city\", \"ID\"]].groupby(\"city\").count()\n",
    "payments_df = df[[\"city\", \"paid_in_full\"]].groupby(\"city\").mean()\n",
    "score_df = df[[\"city\", \"credit_score\"]].groupby(\"city\").mean()\n",
    "\n",
    "join1 = approvals_df.join(payments_df, on=\"city\", how=\"inner\")\n",
    "city_df = join1.join(score_df, on=\"city\", how=\"inner\")"
   ]
  },
  {
   "cell_type": "code",
   "execution_count": 101,
   "id": "acc22487",
   "metadata": {},
   "outputs": [
    {
     "data": {
      "application/vnd.microsoft.datawrangler.viewer.v0+json": {
       "columns": [
        {
         "name": "city",
         "rawType": "object",
         "type": "string"
        },
        {
         "name": "ID",
         "rawType": "int64",
         "type": "integer"
        },
        {
         "name": "paid_in_full",
         "rawType": "float64",
         "type": "float"
        },
        {
         "name": "credit_score",
         "rawType": "float64",
         "type": "float"
        }
       ],
       "conversionMethod": "pd.DataFrame",
       "ref": "a97b7e8c-85a0-4d50-b1ed-76a32df946ac",
       "rows": [
        [
         "Barranquilla",
         "165",
         "0.012121212121212121",
         "338.2181818181818"
        ],
        [
         "Bogota",
         "133",
         "0.06015037593984962",
         "385.09774436090225"
        ],
        [
         "Bucaramanga",
         "156",
         "0.5769230769230769",
         "481.2307692307692"
        ],
        [
         "Cali",
         "110",
         "0.14545454545454545",
         "414.96363636363634"
        ],
        [
         "Medellin",
         "136",
         "0.3235294117647059",
         "451.2647058823529"
        ]
       ],
       "shape": {
        "columns": 3,
        "rows": 5
       }
      },
      "text/html": [
       "<div>\n",
       "<style scoped>\n",
       "    .dataframe tbody tr th:only-of-type {\n",
       "        vertical-align: middle;\n",
       "    }\n",
       "\n",
       "    .dataframe tbody tr th {\n",
       "        vertical-align: top;\n",
       "    }\n",
       "\n",
       "    .dataframe thead th {\n",
       "        text-align: right;\n",
       "    }\n",
       "</style>\n",
       "<table border=\"1\" class=\"dataframe\">\n",
       "  <thead>\n",
       "    <tr style=\"text-align: right;\">\n",
       "      <th></th>\n",
       "      <th>ID</th>\n",
       "      <th>paid_in_full</th>\n",
       "      <th>credit_score</th>\n",
       "    </tr>\n",
       "    <tr>\n",
       "      <th>city</th>\n",
       "      <th></th>\n",
       "      <th></th>\n",
       "      <th></th>\n",
       "    </tr>\n",
       "  </thead>\n",
       "  <tbody>\n",
       "    <tr>\n",
       "      <th>Barranquilla</th>\n",
       "      <td>165</td>\n",
       "      <td>0.012121</td>\n",
       "      <td>338.218182</td>\n",
       "    </tr>\n",
       "    <tr>\n",
       "      <th>Bogota</th>\n",
       "      <td>133</td>\n",
       "      <td>0.060150</td>\n",
       "      <td>385.097744</td>\n",
       "    </tr>\n",
       "    <tr>\n",
       "      <th>Bucaramanga</th>\n",
       "      <td>156</td>\n",
       "      <td>0.576923</td>\n",
       "      <td>481.230769</td>\n",
       "    </tr>\n",
       "    <tr>\n",
       "      <th>Cali</th>\n",
       "      <td>110</td>\n",
       "      <td>0.145455</td>\n",
       "      <td>414.963636</td>\n",
       "    </tr>\n",
       "    <tr>\n",
       "      <th>Medellin</th>\n",
       "      <td>136</td>\n",
       "      <td>0.323529</td>\n",
       "      <td>451.264706</td>\n",
       "    </tr>\n",
       "  </tbody>\n",
       "</table>\n",
       "</div>"
      ],
      "text/plain": [
       "               ID  paid_in_full  credit_score\n",
       "city                                         \n",
       "Barranquilla  165      0.012121    338.218182\n",
       "Bogota        133      0.060150    385.097744\n",
       "Bucaramanga   156      0.576923    481.230769\n",
       "Cali          110      0.145455    414.963636\n",
       "Medellin      136      0.323529    451.264706"
      ]
     },
     "execution_count": 101,
     "metadata": {},
     "output_type": "execute_result"
    }
   ],
   "source": [
    "city_df"
   ]
  },
  {
   "cell_type": "code",
   "execution_count": 110,
   "id": "90c94292",
   "metadata": {},
   "outputs": [
    {
     "data": {
      "image/png": "[encoded data removed]",
      "text/plain": [
       "<Figure size 1169.38x1000 with 14 Axes>"
      ]
     },
     "metadata": {},
     "output_type": "display_data"
    }
   ],
   "source": [
    "sns.pairplot(data=df[['education', 'monthly_income', 'current_assets','credit_score', 'Monto', 'paid_in_full', 'loss']], corner=True, hue=\"education\")\n",
    "plt.suptitle(\"Distribucion de variables - Provision de crédito por nivel educativo\")\n",
    "plt.savefig(\"../images/education_level_loans.png\", format=\"png\")\n",
    "plt.show()"
   ]
  },
  {
   "cell_type": "code",
   "execution_count": 115,
   "id": "1f57a795",
   "metadata": {},
   "outputs": [
    {
     "data": {
      "application/vnd.microsoft.datawrangler.viewer.v0+json": {
       "columns": [
        {
         "name": "education",
         "rawType": "object",
         "type": "string"
        },
        {
         "name": "paid_in_full",
         "rawType": "float64",
         "type": "float"
        }
       ],
       "conversionMethod": "pd.DataFrame",
       "ref": "009d2efe-3d5a-4214-ba1c-4410199a100b",
       "rows": [
        [
         "master",
         "0.20382165605095542"
        ],
        [
         "phd",
         "0.11"
        ],
        [
         "school",
         "0.3689839572192513"
        ],
        [
         "undergraduate",
         "0.23717948717948717"
        ]
       ],
       "shape": {
        "columns": 1,
        "rows": 4
       }
      },
      "text/html": [
       "<div>\n",
       "<style scoped>\n",
       "    .dataframe tbody tr th:only-of-type {\n",
       "        vertical-align: middle;\n",
       "    }\n",
       "\n",
       "    .dataframe tbody tr th {\n",
       "        vertical-align: top;\n",
       "    }\n",
       "\n",
       "    .dataframe thead th {\n",
       "        text-align: right;\n",
       "    }\n",
       "</style>\n",
       "<table border=\"1\" class=\"dataframe\">\n",
       "  <thead>\n",
       "    <tr style=\"text-align: right;\">\n",
       "      <th></th>\n",
       "      <th>paid_in_full</th>\n",
       "    </tr>\n",
       "    <tr>\n",
       "      <th>education</th>\n",
       "      <th></th>\n",
       "    </tr>\n",
       "  </thead>\n",
       "  <tbody>\n",
       "    <tr>\n",
       "      <th>master</th>\n",
       "      <td>0.203822</td>\n",
       "    </tr>\n",
       "    <tr>\n",
       "      <th>phd</th>\n",
       "      <td>0.110000</td>\n",
       "    </tr>\n",
       "    <tr>\n",
       "      <th>school</th>\n",
       "      <td>0.368984</td>\n",
       "    </tr>\n",
       "    <tr>\n",
       "      <th>undergraduate</th>\n",
       "      <td>0.237179</td>\n",
       "    </tr>\n",
       "  </tbody>\n",
       "</table>\n",
       "</div>"
      ],
      "text/plain": [
       "               paid_in_full\n",
       "education                  \n",
       "master             0.203822\n",
       "phd                0.110000\n",
       "school             0.368984\n",
       "undergraduate      0.237179"
      ]
     },
     "execution_count": 115,
     "metadata": {},
     "output_type": "execute_result"
    }
   ],
   "source": [
    "# correlation between education level and loan success\n",
    "df[[\"education\", \"paid_in_full\"]].groupby(\"education\").mean()"
   ]
  },
  {
   "cell_type": "code",
   "execution_count": 118,
   "id": "ed08a959",
   "metadata": {},
   "outputs": [
    {
     "data": {
      "application/vnd.microsoft.datawrangler.viewer.v0+json": {
       "columns": [
        {
         "name": "('education', 'city')",
         "rawType": "object",
         "type": "unknown"
        },
        {
         "name": "paid_in_full",
         "rawType": "float64",
         "type": "float"
        }
       ],
       "conversionMethod": "pd.DataFrame",
       "ref": "250d7fc4-9d34-4418-983d-053826981197",
       "rows": [
        [
         "('school', 'Barranquilla')",
         "0.0"
        ],
        [
         "('undergraduate', 'Barranquilla')",
         "0.0"
        ],
        [
         "('school', 'Bogota')",
         "0.0"
        ],
        [
         "('undergraduate', 'Bogota')",
         "0.0"
        ],
        [
         "('phd', 'Barranquilla')",
         "0.008928571428571428"
        ],
        [
         "('master', 'Barranquilla')",
         "0.02857142857142857"
        ],
        [
         "('master', 'Bogota')",
         "0.07692307692307693"
        ],
        [
         "('school', 'Cali')",
         "0.09523809523809523"
        ],
        [
         "('phd', 'Bogota')",
         "0.10416666666666667"
        ],
        [
         "('master', 'Cali')",
         "0.14705882352941177"
        ],
        [
         "('school', 'Medellin')",
         "0.15555555555555556"
        ],
        [
         "('phd', 'Cali')",
         "0.15789473684210525"
        ],
        [
         "('undergraduate', 'Cali')",
         "0.16666666666666666"
        ],
        [
         "('undergraduate', 'Medellin')",
         "0.3157894736842105"
        ],
        [
         "('master', 'Medellin')",
         "0.4166666666666667"
        ],
        [
         "('undergraduate', 'Bucaramanga')",
         "0.5428571428571428"
        ],
        [
         "('school', 'Bucaramanga')",
         "0.5769230769230769"
        ],
        [
         "('phd', 'Medellin')",
         "0.5882352941176471"
        ],
        [
         "('master', 'Bucaramanga')",
         "0.6153846153846154"
        ],
        [
         "('phd', 'Bucaramanga')",
         "0.75"
        ]
       ],
       "shape": {
        "columns": 1,
        "rows": 20
       }
      },
      "text/html": [
       "<div>\n",
       "<style scoped>\n",
       "    .dataframe tbody tr th:only-of-type {\n",
       "        vertical-align: middle;\n",
       "    }\n",
       "\n",
       "    .dataframe tbody tr th {\n",
       "        vertical-align: top;\n",
       "    }\n",
       "\n",
       "    .dataframe thead th {\n",
       "        text-align: right;\n",
       "    }\n",
       "</style>\n",
       "<table border=\"1\" class=\"dataframe\">\n",
       "  <thead>\n",
       "    <tr style=\"text-align: right;\">\n",
       "      <th></th>\n",
       "      <th></th>\n",
       "      <th>paid_in_full</th>\n",
       "    </tr>\n",
       "    <tr>\n",
       "      <th>education</th>\n",
       "      <th>city</th>\n",
       "      <th></th>\n",
       "    </tr>\n",
       "  </thead>\n",
       "  <tbody>\n",
       "    <tr>\n",
       "      <th>school</th>\n",
       "      <th>Barranquilla</th>\n",
       "      <td>0.000000</td>\n",
       "    </tr>\n",
       "    <tr>\n",
       "      <th>undergraduate</th>\n",
       "      <th>Barranquilla</th>\n",
       "      <td>0.000000</td>\n",
       "    </tr>\n",
       "    <tr>\n",
       "      <th>school</th>\n",
       "      <th>Bogota</th>\n",
       "      <td>0.000000</td>\n",
       "    </tr>\n",
       "    <tr>\n",
       "      <th>undergraduate</th>\n",
       "      <th>Bogota</th>\n",
       "      <td>0.000000</td>\n",
       "    </tr>\n",
       "    <tr>\n",
       "      <th>phd</th>\n",
       "      <th>Barranquilla</th>\n",
       "      <td>0.008929</td>\n",
       "    </tr>\n",
       "    <tr>\n",
       "      <th rowspan=\"2\" valign=\"top\">master</th>\n",
       "      <th>Barranquilla</th>\n",
       "      <td>0.028571</td>\n",
       "    </tr>\n",
       "    <tr>\n",
       "      <th>Bogota</th>\n",
       "      <td>0.076923</td>\n",
       "    </tr>\n",
       "    <tr>\n",
       "      <th>school</th>\n",
       "      <th>Cali</th>\n",
       "      <td>0.095238</td>\n",
       "    </tr>\n",
       "    <tr>\n",
       "      <th>phd</th>\n",
       "      <th>Bogota</th>\n",
       "      <td>0.104167</td>\n",
       "    </tr>\n",
       "    <tr>\n",
       "      <th>master</th>\n",
       "      <th>Cali</th>\n",
       "      <td>0.147059</td>\n",
       "    </tr>\n",
       "    <tr>\n",
       "      <th>school</th>\n",
       "      <th>Medellin</th>\n",
       "      <td>0.155556</td>\n",
       "    </tr>\n",
       "    <tr>\n",
       "      <th>phd</th>\n",
       "      <th>Cali</th>\n",
       "      <td>0.157895</td>\n",
       "    </tr>\n",
       "    <tr>\n",
       "      <th rowspan=\"2\" valign=\"top\">undergraduate</th>\n",
       "      <th>Cali</th>\n",
       "      <td>0.166667</td>\n",
       "    </tr>\n",
       "    <tr>\n",
       "      <th>Medellin</th>\n",
       "      <td>0.315789</td>\n",
       "    </tr>\n",
       "    <tr>\n",
       "      <th>master</th>\n",
       "      <th>Medellin</th>\n",
       "      <td>0.416667</td>\n",
       "    </tr>\n",
       "    <tr>\n",
       "      <th>undergraduate</th>\n",
       "      <th>Bucaramanga</th>\n",
       "      <td>0.542857</td>\n",
       "    </tr>\n",
       "    <tr>\n",
       "      <th>school</th>\n",
       "      <th>Bucaramanga</th>\n",
       "      <td>0.576923</td>\n",
       "    </tr>\n",
       "    <tr>\n",
       "      <th>phd</th>\n",
       "      <th>Medellin</th>\n",
       "      <td>0.588235</td>\n",
       "    </tr>\n",
       "    <tr>\n",
       "      <th>master</th>\n",
       "      <th>Bucaramanga</th>\n",
       "      <td>0.615385</td>\n",
       "    </tr>\n",
       "    <tr>\n",
       "      <th>phd</th>\n",
       "      <th>Bucaramanga</th>\n",
       "      <td>0.750000</td>\n",
       "    </tr>\n",
       "  </tbody>\n",
       "</table>\n",
       "</div>"
      ],
      "text/plain": [
       "                            paid_in_full\n",
       "education     city                      \n",
       "school        Barranquilla      0.000000\n",
       "undergraduate Barranquilla      0.000000\n",
       "school        Bogota            0.000000\n",
       "undergraduate Bogota            0.000000\n",
       "phd           Barranquilla      0.008929\n",
       "master        Barranquilla      0.028571\n",
       "              Bogota            0.076923\n",
       "school        Cali              0.095238\n",
       "phd           Bogota            0.104167\n",
       "master        Cali              0.147059\n",
       "school        Medellin          0.155556\n",
       "phd           Cali              0.157895\n",
       "undergraduate Cali              0.166667\n",
       "              Medellin          0.315789\n",
       "master        Medellin          0.416667\n",
       "undergraduate Bucaramanga       0.542857\n",
       "school        Bucaramanga       0.576923\n",
       "phd           Medellin          0.588235\n",
       "master        Bucaramanga       0.615385\n",
       "phd           Bucaramanga       0.750000"
      ]
     },
     "execution_count": 118,
     "metadata": {},
     "output_type": "execute_result"
    }
   ],
   "source": [
    "# correlation between education level and loan success by city\n",
    "df[[\"education\", \"city\", \"paid_in_full\"]].groupby([\"education\", \"city\"]).mean().sort_values(by=\"paid_in_full\")"
   ]
  },
  {
   "cell_type": "markdown",
   "id": "0fa9dcd5",
   "metadata": {},
   "source": [
    "### Data Preprocessing"
   ]
  },
  {
   "cell_type": "code",
   "execution_count": 104,
   "id": "8d7cd3f8",
   "metadata": {},
   "outputs": [],
   "source": [
    "df_processed = df.copy()\n",
    "\n",
    "df_processed.drop(\"ID\", axis=1, inplace=True)\n",
    "\n",
    "# Convert to numerical\n",
    "df_processed[\"city\"] = pd.factorize(values=df_processed[\"city\"])[0]\n",
    "df_processed[\"education\"] = pd.factorize(values=df_processed[\"education\"])[0]"
   ]
  },
  {
   "cell_type": "code",
   "execution_count": 52,
   "id": "a2cc48f6",
   "metadata": {},
   "outputs": [
    {
     "data": {
      "application/vnd.microsoft.datawrangler.viewer.v0+json": {
       "columns": [
        {
         "name": "index",
         "rawType": "int64",
         "type": "integer"
        },
        {
         "name": "education",
         "rawType": "int64",
         "type": "integer"
        },
        {
         "name": "city",
         "rawType": "int64",
         "type": "integer"
        },
        {
         "name": "monthly_income",
         "rawType": "float64",
         "type": "float"
        },
        {
         "name": "current_assets",
         "rawType": "float64",
         "type": "float"
        },
        {
         "name": "credit_score",
         "rawType": "int64",
         "type": "integer"
        },
        {
         "name": "Monto",
         "rawType": "object",
         "type": "string"
        },
        {
         "name": "paid_in_full",
         "rawType": "int64",
         "type": "integer"
        },
        {
         "name": "loss",
         "rawType": "object",
         "type": "string"
        }
       ],
       "conversionMethod": "pd.DataFrame",
       "ref": "2a165d5c-e4fd-4e9c-a194-f312150f7073",
       "rows": [
        [
         "0",
         "0",
         "0",
         "11474.07",
         "40530.37",
         "611",
         "$ 6,599,489",
         "0",
         "$ 0"
        ],
        [
         "1",
         "1",
         "0",
         "16686.98",
         "61403.51",
         "765",
         "$ 7,466,025",
         "1",
         "$ 5,606,767"
        ],
        [
         "2",
         "0",
         "1",
         "9928.97",
         "51321.42",
         "542",
         "$ 13,410,229",
         "0",
         "$ 0"
        ],
        [
         "3",
         "0",
         "2",
         "11331.48",
         "23544.06",
         "619",
         "$ 17,369,018",
         "1",
         "$ 9,059,520"
        ],
        [
         "4",
         "1",
         "3",
         "10146.78",
         "27220.55",
         "654",
         "$ 2,493,060",
         "0",
         "$ 0"
        ]
       ],
       "shape": {
        "columns": 8,
        "rows": 5
       }
      },
      "text/html": [
       "<div>\n",
       "<style scoped>\n",
       "    .dataframe tbody tr th:only-of-type {\n",
       "        vertical-align: middle;\n",
       "    }\n",
       "\n",
       "    .dataframe tbody tr th {\n",
       "        vertical-align: top;\n",
       "    }\n",
       "\n",
       "    .dataframe thead th {\n",
       "        text-align: right;\n",
       "    }\n",
       "</style>\n",
       "<table border=\"1\" class=\"dataframe\">\n",
       "  <thead>\n",
       "    <tr style=\"text-align: right;\">\n",
       "      <th></th>\n",
       "      <th>education</th>\n",
       "      <th>city</th>\n",
       "      <th>monthly_income</th>\n",
       "      <th>current_assets</th>\n",
       "      <th>credit_score</th>\n",
       "      <th>Monto</th>\n",
       "      <th>paid_in_full</th>\n",
       "      <th>loss</th>\n",
       "    </tr>\n",
       "  </thead>\n",
       "  <tbody>\n",
       "    <tr>\n",
       "      <th>0</th>\n",
       "      <td>0</td>\n",
       "      <td>0</td>\n",
       "      <td>11474.07</td>\n",
       "      <td>40530.37</td>\n",
       "      <td>611</td>\n",
       "      <td>$ 6,599,489</td>\n",
       "      <td>0</td>\n",
       "      <td>$ 0</td>\n",
       "    </tr>\n",
       "    <tr>\n",
       "      <th>1</th>\n",
       "      <td>1</td>\n",
       "      <td>0</td>\n",
       "      <td>16686.98</td>\n",
       "      <td>61403.51</td>\n",
       "      <td>765</td>\n",
       "      <td>$ 7,466,025</td>\n",
       "      <td>1</td>\n",
       "      <td>$ 5,606,767</td>\n",
       "    </tr>\n",
       "    <tr>\n",
       "      <th>2</th>\n",
       "      <td>0</td>\n",
       "      <td>1</td>\n",
       "      <td>9928.97</td>\n",
       "      <td>51321.42</td>\n",
       "      <td>542</td>\n",
       "      <td>$ 13,410,229</td>\n",
       "      <td>0</td>\n",
       "      <td>$ 0</td>\n",
       "    </tr>\n",
       "    <tr>\n",
       "      <th>3</th>\n",
       "      <td>0</td>\n",
       "      <td>2</td>\n",
       "      <td>11331.48</td>\n",
       "      <td>23544.06</td>\n",
       "      <td>619</td>\n",
       "      <td>$ 17,369,018</td>\n",
       "      <td>1</td>\n",
       "      <td>$ 9,059,520</td>\n",
       "    </tr>\n",
       "    <tr>\n",
       "      <th>4</th>\n",
       "      <td>1</td>\n",
       "      <td>3</td>\n",
       "      <td>10146.78</td>\n",
       "      <td>27220.55</td>\n",
       "      <td>654</td>\n",
       "      <td>$ 2,493,060</td>\n",
       "      <td>0</td>\n",
       "      <td>$ 0</td>\n",
       "    </tr>\n",
       "  </tbody>\n",
       "</table>\n",
       "</div>"
      ],
      "text/plain": [
       "   education  city  monthly_income  current_assets  credit_score  \\\n",
       "0          0     0        11474.07        40530.37           611   \n",
       "1          1     0        16686.98        61403.51           765   \n",
       "2          0     1         9928.97        51321.42           542   \n",
       "3          0     2        11331.48        23544.06           619   \n",
       "4          1     3        10146.78        27220.55           654   \n",
       "\n",
       "          Monto  paid_in_full         loss  \n",
       "0   $ 6,599,489             0          $ 0  \n",
       "1   $ 7,466,025             1  $ 5,606,767  \n",
       "2  $ 13,410,229             0          $ 0  \n",
       "3  $ 17,369,018             1  $ 9,059,520  \n",
       "4   $ 2,493,060             0          $ 0  "
      ]
     },
     "execution_count": 52,
     "metadata": {},
     "output_type": "execute_result"
    }
   ],
   "source": [
    "df_processed.head()"
   ]
  },
  {
   "cell_type": "markdown",
   "id": "d799fdc1",
   "metadata": {},
   "source": [
    "### Modeling"
   ]
  },
  {
   "cell_type": "code",
   "execution_count": 53,
   "id": "2cdf1a1c",
   "metadata": {},
   "outputs": [],
   "source": [
    "from sklearn.preprocessing import StandardScaler  # Scalar las variables para darles la misma importancia en el modelamiento\n",
    "from sklearn.linear_model import LogisticRegressionCV\n",
    "from sklearn.model_selection import train_test_split"
   ]
  },
  {
   "cell_type": "code",
   "execution_count": 54,
   "id": "919dddfb",
   "metadata": {},
   "outputs": [
    {
     "name": "stdout",
     "output_type": "stream",
     "text": [
      "0     6599489.0\n",
      "1     7466025.0\n",
      "2    13410229.0\n",
      "3    17369018.0\n",
      "4     2493060.0\n",
      "Name: Monto, dtype: float64\n"
     ]
    }
   ],
   "source": [
    "# Limpiar la columna \"Monto\" eliminando los signos de dólar y las comas\n",
    "df_processed['Monto'] = df_processed['Monto'].replace({'\\$': '', ',': ''}, regex=True)\n",
    "\n",
    "# Convertir la columna \"Monto\" a tipo float\n",
    "df_processed['Monto'] = df_processed['Monto'].astype(float)\n",
    "\n",
    "# Verificar el resultado\n",
    "print(df_processed['Monto'].head())\n"
   ]
  },
  {
   "cell_type": "code",
   "execution_count": 55,
   "id": "9c8ecda1",
   "metadata": {},
   "outputs": [],
   "source": [
    "# Split data between input and output variables\n",
    "\n",
    "output_variable = \"paid_in_full\"\n",
    "input_cols = list(df_processed.drop([output_variable, \"loss\"], axis=1).columns)\n",
    "output_cols = [output_variable]\n",
    "\n",
    "X = df_processed[input_cols]\n",
    "y = df_processed[output_cols]\n",
    "\n",
    "scaler = StandardScaler()\n",
    "X = pd.DataFrame(data=scaler.fit_transform(X), columns=X.columns)"
   ]
  },
  {
   "cell_type": "code",
   "execution_count": 56,
   "id": "7b4a183d",
   "metadata": {},
   "outputs": [
    {
     "data": {
      "text/html": [
       "<style>#sk-container-id-2 {\n",
       "  /* Definition of color scheme common for light and dark mode */\n",
       "  --sklearn-color-text: #000;\n",
       "  --sklearn-color-text-muted: #666;\n",
       "  --sklearn-color-line: gray;\n",
       "  /* Definition of color scheme for unfitted estimators */\n",
       "  --sklearn-color-unfitted-level-0: #fff5e6;\n",
       "  --sklearn-color-unfitted-level-1: #f6e4d2;\n",
       "  --sklearn-color-unfitted-level-2: #ffe0b3;\n",
       "  --sklearn-color-unfitted-level-3: chocolate;\n",
       "  /* Definition of color scheme for fitted estimators */\n",
       "  --sklearn-color-fitted-level-0: #f0f8ff;\n",
       "  --sklearn-color-fitted-level-1: #d4ebff;\n",
       "  --sklearn-color-fitted-level-2: #b3dbfd;\n",
       "  --sklearn-color-fitted-level-3: cornflowerblue;\n",
       "\n",
       "  /* Specific color for light theme */\n",
       "  --sklearn-color-text-on-default-background: var(--sg-text-color, var(--theme-code-foreground, var(--jp-content-font-color1, black)));\n",
       "  --sklearn-color-background: var(--sg-background-color, var(--theme-background, var(--jp-layout-color0, white)));\n",
       "  --sklearn-color-border-box: var(--sg-text-color, var(--theme-code-foreground, var(--jp-content-font-color1, black)));\n",
       "  --sklearn-color-icon: #696969;\n",
       "\n",
       "  @media (prefers-color-scheme: dark) {\n",
       "    /* Redefinition of color scheme for dark theme */\n",
       "    --sklearn-color-text-on-default-background: var(--sg-text-color, var(--theme-code-foreground, var(--jp-content-font-color1, white)));\n",
       "    --sklearn-color-background: var(--sg-background-color, var(--theme-background, var(--jp-layout-color0, #111)));\n",
       "    --sklearn-color-border-box: var(--sg-text-color, var(--theme-code-foreground, var(--jp-content-font-color1, white)));\n",
       "    --sklearn-color-icon: #878787;\n",
       "  }\n",
       "}\n",
       "\n",
       "#sk-container-id-2 {\n",
       "  color: var(--sklearn-color-text);\n",
       "}\n",
       "\n",
       "#sk-container-id-2 pre {\n",
       "  padding: 0;\n",
       "}\n",
       "\n",
       "#sk-container-id-2 input.sk-hidden--visually {\n",
       "  border: 0;\n",
       "  clip: rect(1px 1px 1px 1px);\n",
       "  clip: rect(1px, 1px, 1px, 1px);\n",
       "  height: 1px;\n",
       "  margin: -1px;\n",
       "  overflow: hidden;\n",
       "  padding: 0;\n",
       "  position: absolute;\n",
       "  width: 1px;\n",
       "}\n",
       "\n",
       "#sk-container-id-2 div.sk-dashed-wrapped {\n",
       "  border: 1px dashed var(--sklearn-color-line);\n",
       "  margin: 0 0.4em 0.5em 0.4em;\n",
       "  box-sizing: border-box;\n",
       "  padding-bottom: 0.4em;\n",
       "  background-color: var(--sklearn-color-background);\n",
       "}\n",
       "\n",
       "#sk-container-id-2 div.sk-container {\n",
       "  /* jupyter's `normalize.less` sets `[hidden] { display: none; }`\n",
       "     but bootstrap.min.css set `[hidden] { display: none !important; }`\n",
       "     so we also need the `!important` here to be able to override the\n",
       "     default hidden behavior on the sphinx rendered scikit-learn.org.\n",
       "     See: https://github.com/scikit-learn/scikit-learn/issues/21755 */\n",
       "  display: inline-block !important;\n",
       "  position: relative;\n",
       "}\n",
       "\n",
       "#sk-container-id-2 div.sk-text-repr-fallback {\n",
       "  display: none;\n",
       "}\n",
       "\n",
       "div.sk-parallel-item,\n",
       "div.sk-serial,\n",
       "div.sk-item {\n",
       "  /* draw centered vertical line to link estimators */\n",
       "  background-image: linear-gradient(var(--sklearn-color-text-on-default-background), var(--sklearn-color-text-on-default-background));\n",
       "  background-size: 2px 100%;\n",
       "  background-repeat: no-repeat;\n",
       "  background-position: center center;\n",
       "}\n",
       "\n",
       "/* Parallel-specific style estimator block */\n",
       "\n",
       "#sk-container-id-2 div.sk-parallel-item::after {\n",
       "  content: \"\";\n",
       "  width: 100%;\n",
       "  border-bottom: 2px solid var(--sklearn-color-text-on-default-background);\n",
       "  flex-grow: 1;\n",
       "}\n",
       "\n",
       "#sk-container-id-2 div.sk-parallel {\n",
       "  display: flex;\n",
       "  align-items: stretch;\n",
       "  justify-content: center;\n",
       "  background-color: var(--sklearn-color-background);\n",
       "  position: relative;\n",
       "}\n",
       "\n",
       "#sk-container-id-2 div.sk-parallel-item {\n",
       "  display: flex;\n",
       "  flex-direction: column;\n",
       "}\n",
       "\n",
       "#sk-container-id-2 div.sk-parallel-item:first-child::after {\n",
       "  align-self: flex-end;\n",
       "  width: 50%;\n",
       "}\n",
       "\n",
       "#sk-container-id-2 div.sk-parallel-item:last-child::after {\n",
       "  align-self: flex-start;\n",
       "  width: 50%;\n",
       "}\n",
       "\n",
       "#sk-container-id-2 div.sk-parallel-item:only-child::after {\n",
       "  width: 0;\n",
       "}\n",
       "\n",
       "/* Serial-specific style estimator block */\n",
       "\n",
       "#sk-container-id-2 div.sk-serial {\n",
       "  display: flex;\n",
       "  flex-direction: column;\n",
       "  align-items: center;\n",
       "  background-color: var(--sklearn-color-background);\n",
       "  padding-right: 1em;\n",
       "  padding-left: 1em;\n",
       "}\n",
       "\n",
       "\n",
       "/* Toggleable style: style used for estimator/Pipeline/ColumnTransformer box that is\n",
       "clickable and can be expanded/collapsed.\n",
       "- Pipeline and ColumnTransformer use this feature and define the default style\n",
       "- Estimators will overwrite some part of the style using the `sk-estimator` class\n",
       "*/\n",
       "\n",
       "/* Pipeline and ColumnTransformer style (default) */\n",
       "\n",
       "#sk-container-id-2 div.sk-toggleable {\n",
       "  /* Default theme specific background. It is overwritten whether we have a\n",
       "  specific estimator or a Pipeline/ColumnTransformer */\n",
       "  background-color: var(--sklearn-color-background);\n",
       "}\n",
       "\n",
       "/* Toggleable label */\n",
       "#sk-container-id-2 label.sk-toggleable__label {\n",
       "  cursor: pointer;\n",
       "  display: flex;\n",
       "  width: 100%;\n",
       "  margin-bottom: 0;\n",
       "  padding: 0.5em;\n",
       "  box-sizing: border-box;\n",
       "  text-align: center;\n",
       "  align-items: start;\n",
       "  justify-content: space-between;\n",
       "  gap: 0.5em;\n",
       "}\n",
       "\n",
       "#sk-container-id-2 label.sk-toggleable__label .caption {\n",
       "  font-size: 0.6rem;\n",
       "  font-weight: lighter;\n",
       "  color: var(--sklearn-color-text-muted);\n",
       "}\n",
       "\n",
       "#sk-container-id-2 label.sk-toggleable__label-arrow:before {\n",
       "  /* Arrow on the left of the label */\n",
       "  content: \"▸\";\n",
       "  float: left;\n",
       "  margin-right: 0.25em;\n",
       "  color: var(--sklearn-color-icon);\n",
       "}\n",
       "\n",
       "#sk-container-id-2 label.sk-toggleable__label-arrow:hover:before {\n",
       "  color: var(--sklearn-color-text);\n",
       "}\n",
       "\n",
       "/* Toggleable content - dropdown */\n",
       "\n",
       "#sk-container-id-2 div.sk-toggleable__content {\n",
       "  max-height: 0;\n",
       "  max-width: 0;\n",
       "  overflow: hidden;\n",
       "  text-align: left;\n",
       "  /* unfitted */\n",
       "  background-color: var(--sklearn-color-unfitted-level-0);\n",
       "}\n",
       "\n",
       "#sk-container-id-2 div.sk-toggleable__content.fitted {\n",
       "  /* fitted */\n",
       "  background-color: var(--sklearn-color-fitted-level-0);\n",
       "}\n",
       "\n",
       "#sk-container-id-2 div.sk-toggleable__content pre {\n",
       "  margin: 0.2em;\n",
       "  border-radius: 0.25em;\n",
       "  color: var(--sklearn-color-text);\n",
       "  /* unfitted */\n",
       "  background-color: var(--sklearn-color-unfitted-level-0);\n",
       "}\n",
       "\n",
       "#sk-container-id-2 div.sk-toggleable__content.fitted pre {\n",
       "  /* unfitted */\n",
       "  background-color: var(--sklearn-color-fitted-level-0);\n",
       "}\n",
       "\n",
       "#sk-container-id-2 input.sk-toggleable__control:checked~div.sk-toggleable__content {\n",
       "  /* Expand drop-down */\n",
       "  max-height: 200px;\n",
       "  max-width: 100%;\n",
       "  overflow: auto;\n",
       "}\n",
       "\n",
       "#sk-container-id-2 input.sk-toggleable__control:checked~label.sk-toggleable__label-arrow:before {\n",
       "  content: \"▾\";\n",
       "}\n",
       "\n",
       "/* Pipeline/ColumnTransformer-specific style */\n",
       "\n",
       "#sk-container-id-2 div.sk-label input.sk-toggleable__control:checked~label.sk-toggleable__label {\n",
       "  color: var(--sklearn-color-text);\n",
       "  background-color: var(--sklearn-color-unfitted-level-2);\n",
       "}\n",
       "\n",
       "#sk-container-id-2 div.sk-label.fitted input.sk-toggleable__control:checked~label.sk-toggleable__label {\n",
       "  background-color: var(--sklearn-color-fitted-level-2);\n",
       "}\n",
       "\n",
       "/* Estimator-specific style */\n",
       "\n",
       "/* Colorize estimator box */\n",
       "#sk-container-id-2 div.sk-estimator input.sk-toggleable__control:checked~label.sk-toggleable__label {\n",
       "  /* unfitted */\n",
       "  background-color: var(--sklearn-color-unfitted-level-2);\n",
       "}\n",
       "\n",
       "#sk-container-id-2 div.sk-estimator.fitted input.sk-toggleable__control:checked~label.sk-toggleable__label {\n",
       "  /* fitted */\n",
       "  background-color: var(--sklearn-color-fitted-level-2);\n",
       "}\n",
       "\n",
       "#sk-container-id-2 div.sk-label label.sk-toggleable__label,\n",
       "#sk-container-id-2 div.sk-label label {\n",
       "  /* The background is the default theme color */\n",
       "  color: var(--sklearn-color-text-on-default-background);\n",
       "}\n",
       "\n",
       "/* On hover, darken the color of the background */\n",
       "#sk-container-id-2 div.sk-label:hover label.sk-toggleable__label {\n",
       "  color: var(--sklearn-color-text);\n",
       "  background-color: var(--sklearn-color-unfitted-level-2);\n",
       "}\n",
       "\n",
       "/* Label box, darken color on hover, fitted */\n",
       "#sk-container-id-2 div.sk-label.fitted:hover label.sk-toggleable__label.fitted {\n",
       "  color: var(--sklearn-color-text);\n",
       "  background-color: var(--sklearn-color-fitted-level-2);\n",
       "}\n",
       "\n",
       "/* Estimator label */\n",
       "\n",
       "#sk-container-id-2 div.sk-label label {\n",
       "  font-family: monospace;\n",
       "  font-weight: bold;\n",
       "  display: inline-block;\n",
       "  line-height: 1.2em;\n",
       "}\n",
       "\n",
       "#sk-container-id-2 div.sk-label-container {\n",
       "  text-align: center;\n",
       "}\n",
       "\n",
       "/* Estimator-specific */\n",
       "#sk-container-id-2 div.sk-estimator {\n",
       "  font-family: monospace;\n",
       "  border: 1px dotted var(--sklearn-color-border-box);\n",
       "  border-radius: 0.25em;\n",
       "  box-sizing: border-box;\n",
       "  margin-bottom: 0.5em;\n",
       "  /* unfitted */\n",
       "  background-color: var(--sklearn-color-unfitted-level-0);\n",
       "}\n",
       "\n",
       "#sk-container-id-2 div.sk-estimator.fitted {\n",
       "  /* fitted */\n",
       "  background-color: var(--sklearn-color-fitted-level-0);\n",
       "}\n",
       "\n",
       "/* on hover */\n",
       "#sk-container-id-2 div.sk-estimator:hover {\n",
       "  /* unfitted */\n",
       "  background-color: var(--sklearn-color-unfitted-level-2);\n",
       "}\n",
       "\n",
       "#sk-container-id-2 div.sk-estimator.fitted:hover {\n",
       "  /* fitted */\n",
       "  background-color: var(--sklearn-color-fitted-level-2);\n",
       "}\n",
       "\n",
       "/* Specification for estimator info (e.g. \"i\" and \"?\") */\n",
       "\n",
       "/* Common style for \"i\" and \"?\" */\n",
       "\n",
       ".sk-estimator-doc-link,\n",
       "a:link.sk-estimator-doc-link,\n",
       "a:visited.sk-estimator-doc-link {\n",
       "  float: right;\n",
       "  font-size: smaller;\n",
       "  line-height: 1em;\n",
       "  font-family: monospace;\n",
       "  background-color: var(--sklearn-color-background);\n",
       "  border-radius: 1em;\n",
       "  height: 1em;\n",
       "  width: 1em;\n",
       "  text-decoration: none !important;\n",
       "  margin-left: 0.5em;\n",
       "  text-align: center;\n",
       "  /* unfitted */\n",
       "  border: var(--sklearn-color-unfitted-level-1) 1pt solid;\n",
       "  color: var(--sklearn-color-unfitted-level-1);\n",
       "}\n",
       "\n",
       ".sk-estimator-doc-link.fitted,\n",
       "a:link.sk-estimator-doc-link.fitted,\n",
       "a:visited.sk-estimator-doc-link.fitted {\n",
       "  /* fitted */\n",
       "  border: var(--sklearn-color-fitted-level-1) 1pt solid;\n",
       "  color: var(--sklearn-color-fitted-level-1);\n",
       "}\n",
       "\n",
       "/* On hover */\n",
       "div.sk-estimator:hover .sk-estimator-doc-link:hover,\n",
       ".sk-estimator-doc-link:hover,\n",
       "div.sk-label-container:hover .sk-estimator-doc-link:hover,\n",
       ".sk-estimator-doc-link:hover {\n",
       "  /* unfitted */\n",
       "  background-color: var(--sklearn-color-unfitted-level-3);\n",
       "  color: var(--sklearn-color-background);\n",
       "  text-decoration: none;\n",
       "}\n",
       "\n",
       "div.sk-estimator.fitted:hover .sk-estimator-doc-link.fitted:hover,\n",
       ".sk-estimator-doc-link.fitted:hover,\n",
       "div.sk-label-container:hover .sk-estimator-doc-link.fitted:hover,\n",
       ".sk-estimator-doc-link.fitted:hover {\n",
       "  /* fitted */\n",
       "  background-color: var(--sklearn-color-fitted-level-3);\n",
       "  color: var(--sklearn-color-background);\n",
       "  text-decoration: none;\n",
       "}\n",
       "\n",
       "/* Span, style for the box shown on hovering the info icon */\n",
       ".sk-estimator-doc-link span {\n",
       "  display: none;\n",
       "  z-index: 9999;\n",
       "  position: relative;\n",
       "  font-weight: normal;\n",
       "  right: .2ex;\n",
       "  padding: .5ex;\n",
       "  margin: .5ex;\n",
       "  width: min-content;\n",
       "  min-width: 20ex;\n",
       "  max-width: 50ex;\n",
       "  color: var(--sklearn-color-text);\n",
       "  box-shadow: 2pt 2pt 4pt #999;\n",
       "  /* unfitted */\n",
       "  background: var(--sklearn-color-unfitted-level-0);\n",
       "  border: .5pt solid var(--sklearn-color-unfitted-level-3);\n",
       "}\n",
       "\n",
       ".sk-estimator-doc-link.fitted span {\n",
       "  /* fitted */\n",
       "  background: var(--sklearn-color-fitted-level-0);\n",
       "  border: var(--sklearn-color-fitted-level-3);\n",
       "}\n",
       "\n",
       ".sk-estimator-doc-link:hover span {\n",
       "  display: block;\n",
       "}\n",
       "\n",
       "/* \"?\"-specific style due to the `<a>` HTML tag */\n",
       "\n",
       "#sk-container-id-2 a.estimator_doc_link {\n",
       "  float: right;\n",
       "  font-size: 1rem;\n",
       "  line-height: 1em;\n",
       "  font-family: monospace;\n",
       "  background-color: var(--sklearn-color-background);\n",
       "  border-radius: 1rem;\n",
       "  height: 1rem;\n",
       "  width: 1rem;\n",
       "  text-decoration: none;\n",
       "  /* unfitted */\n",
       "  color: var(--sklearn-color-unfitted-level-1);\n",
       "  border: var(--sklearn-color-unfitted-level-1) 1pt solid;\n",
       "}\n",
       "\n",
       "#sk-container-id-2 a.estimator_doc_link.fitted {\n",
       "  /* fitted */\n",
       "  border: var(--sklearn-color-fitted-level-1) 1pt solid;\n",
       "  color: var(--sklearn-color-fitted-level-1);\n",
       "}\n",
       "\n",
       "/* On hover */\n",
       "#sk-container-id-2 a.estimator_doc_link:hover {\n",
       "  /* unfitted */\n",
       "  background-color: var(--sklearn-color-unfitted-level-3);\n",
       "  color: var(--sklearn-color-background);\n",
       "  text-decoration: none;\n",
       "}\n",
       "\n",
       "#sk-container-id-2 a.estimator_doc_link.fitted:hover {\n",
       "  /* fitted */\n",
       "  background-color: var(--sklearn-color-fitted-level-3);\n",
       "}\n",
       "</style><div id=\"sk-container-id-2\" class=\"sk-top-container\"><div class=\"sk-text-repr-fallback\"><pre>LogisticRegressionCV(cv=5, random_state=42)</pre><b>In a Jupyter environment, please rerun this cell to show the HTML representation or trust the notebook. <br />On GitHub, the HTML representation is unable to render, please try loading this page with nbviewer.org.</b></div><div class=\"sk-container\" hidden><div class=\"sk-item\"><div class=\"sk-estimator fitted sk-toggleable\"><input class=\"sk-toggleable__control sk-hidden--visually\" id=\"sk-estimator-id-2\" type=\"checkbox\" checked><label for=\"sk-estimator-id-2\" class=\"sk-toggleable__label fitted sk-toggleable__label-arrow\"><div><div>LogisticRegressionCV</div></div><div><a class=\"sk-estimator-doc-link fitted\" rel=\"noreferrer\" target=\"_blank\" href=\"https://scikit-learn.org/1.6/modules/generated/sklearn.linear_model.LogisticRegressionCV.html\">?<span>Documentation for LogisticRegressionCV</span></a><span class=\"sk-estimator-doc-link fitted\">i<span>Fitted</span></span></div></label><div class=\"sk-toggleable__content fitted\"><pre>LogisticRegressionCV(cv=5, random_state=42)</pre></div> </div></div></div></div>"
      ],
      "text/plain": [
       "LogisticRegressionCV(cv=5, random_state=42)"
      ]
     },
     "execution_count": 56,
     "metadata": {},
     "output_type": "execute_result"
    }
   ],
   "source": [
    "model = LogisticRegressionCV(cv=5, random_state=42)\n",
    "model.fit(X, y)"
   ]
  },
  {
   "cell_type": "code",
   "execution_count": 57,
   "id": "7471dbce",
   "metadata": {},
   "outputs": [],
   "source": [
    "paid_in_full_likelihood = model.predict_proba(X)\n"
   ]
  },
  {
   "cell_type": "code",
   "execution_count": 58,
   "id": "8b74f715",
   "metadata": {},
   "outputs": [],
   "source": [
    "df_processed[\"paid_in_full_likelihood\"] = paid_in_full_likelihood[:, 1]"
   ]
  },
  {
   "cell_type": "code",
   "execution_count": 59,
   "id": "3239275d",
   "metadata": {},
   "outputs": [
    {
     "data": {
      "application/vnd.microsoft.datawrangler.viewer.v0+json": {
       "columns": [
        {
         "name": "index",
         "rawType": "int64",
         "type": "integer"
        },
        {
         "name": "education",
         "rawType": "int64",
         "type": "integer"
        },
        {
         "name": "city",
         "rawType": "int64",
         "type": "integer"
        },
        {
         "name": "monthly_income",
         "rawType": "float64",
         "type": "float"
        },
        {
         "name": "current_assets",
         "rawType": "float64",
         "type": "float"
        },
        {
         "name": "credit_score",
         "rawType": "int64",
         "type": "integer"
        },
        {
         "name": "Monto",
         "rawType": "float64",
         "type": "float"
        },
        {
         "name": "paid_in_full",
         "rawType": "int64",
         "type": "integer"
        },
        {
         "name": "loss",
         "rawType": "object",
         "type": "string"
        },
        {
         "name": "paid_in_full_likelihood",
         "rawType": "float64",
         "type": "float"
        }
       ],
       "conversionMethod": "pd.DataFrame",
       "ref": "3219b09f-7dfa-47e4-9782-3636832fe0c2",
       "rows": [
        [
         "0",
         "0",
         "0",
         "11474.07",
         "40530.37",
         "611",
         "6599489.0",
         "0",
         "$ 0",
         "0.3018186506018578"
        ],
        [
         "1",
         "1",
         "0",
         "16686.98",
         "61403.51",
         "765",
         "7466025.0",
         "1",
         "$ 5,606,767",
         "0.78542583063675"
        ],
        [
         "2",
         "0",
         "1",
         "9928.97",
         "51321.42",
         "542",
         "13410229.0",
         "0",
         "$ 0",
         "0.10463856421354145"
        ],
        [
         "3",
         "0",
         "2",
         "11331.48",
         "23544.06",
         "619",
         "17369018.0",
         "1",
         "$ 9,059,520",
         "0.12134714579563965"
        ],
        [
         "4",
         "1",
         "3",
         "10146.78",
         "27220.55",
         "654",
         "2493060.0",
         "0",
         "$ 0",
         "0.12334432598924885"
        ]
       ],
       "shape": {
        "columns": 9,
        "rows": 5
       }
      },
      "text/html": [
       "<div>\n",
       "<style scoped>\n",
       "    .dataframe tbody tr th:only-of-type {\n",
       "        vertical-align: middle;\n",
       "    }\n",
       "\n",
       "    .dataframe tbody tr th {\n",
       "        vertical-align: top;\n",
       "    }\n",
       "\n",
       "    .dataframe thead th {\n",
       "        text-align: right;\n",
       "    }\n",
       "</style>\n",
       "<table border=\"1\" class=\"dataframe\">\n",
       "  <thead>\n",
       "    <tr style=\"text-align: right;\">\n",
       "      <th></th>\n",
       "      <th>education</th>\n",
       "      <th>city</th>\n",
       "      <th>monthly_income</th>\n",
       "      <th>current_assets</th>\n",
       "      <th>credit_score</th>\n",
       "      <th>Monto</th>\n",
       "      <th>paid_in_full</th>\n",
       "      <th>loss</th>\n",
       "      <th>paid_in_full_likelihood</th>\n",
       "    </tr>\n",
       "  </thead>\n",
       "  <tbody>\n",
       "    <tr>\n",
       "      <th>0</th>\n",
       "      <td>0</td>\n",
       "      <td>0</td>\n",
       "      <td>11474.07</td>\n",
       "      <td>40530.37</td>\n",
       "      <td>611</td>\n",
       "      <td>6599489.0</td>\n",
       "      <td>0</td>\n",
       "      <td>$ 0</td>\n",
       "      <td>0.301819</td>\n",
       "    </tr>\n",
       "    <tr>\n",
       "      <th>1</th>\n",
       "      <td>1</td>\n",
       "      <td>0</td>\n",
       "      <td>16686.98</td>\n",
       "      <td>61403.51</td>\n",
       "      <td>765</td>\n",
       "      <td>7466025.0</td>\n",
       "      <td>1</td>\n",
       "      <td>$ 5,606,767</td>\n",
       "      <td>0.785426</td>\n",
       "    </tr>\n",
       "    <tr>\n",
       "      <th>2</th>\n",
       "      <td>0</td>\n",
       "      <td>1</td>\n",
       "      <td>9928.97</td>\n",
       "      <td>51321.42</td>\n",
       "      <td>542</td>\n",
       "      <td>13410229.0</td>\n",
       "      <td>0</td>\n",
       "      <td>$ 0</td>\n",
       "      <td>0.104639</td>\n",
       "    </tr>\n",
       "    <tr>\n",
       "      <th>3</th>\n",
       "      <td>0</td>\n",
       "      <td>2</td>\n",
       "      <td>11331.48</td>\n",
       "      <td>23544.06</td>\n",
       "      <td>619</td>\n",
       "      <td>17369018.0</td>\n",
       "      <td>1</td>\n",
       "      <td>$ 9,059,520</td>\n",
       "      <td>0.121347</td>\n",
       "    </tr>\n",
       "    <tr>\n",
       "      <th>4</th>\n",
       "      <td>1</td>\n",
       "      <td>3</td>\n",
       "      <td>10146.78</td>\n",
       "      <td>27220.55</td>\n",
       "      <td>654</td>\n",
       "      <td>2493060.0</td>\n",
       "      <td>0</td>\n",
       "      <td>$ 0</td>\n",
       "      <td>0.123344</td>\n",
       "    </tr>\n",
       "  </tbody>\n",
       "</table>\n",
       "</div>"
      ],
      "text/plain": [
       "   education  city  monthly_income  current_assets  credit_score       Monto  \\\n",
       "0          0     0        11474.07        40530.37           611   6599489.0   \n",
       "1          1     0        16686.98        61403.51           765   7466025.0   \n",
       "2          0     1         9928.97        51321.42           542  13410229.0   \n",
       "3          0     2        11331.48        23544.06           619  17369018.0   \n",
       "4          1     3        10146.78        27220.55           654   2493060.0   \n",
       "\n",
       "   paid_in_full         loss  paid_in_full_likelihood  \n",
       "0             0          $ 0                 0.301819  \n",
       "1             1  $ 5,606,767                 0.785426  \n",
       "2             0          $ 0                 0.104639  \n",
       "3             1  $ 9,059,520                 0.121347  \n",
       "4             0          $ 0                 0.123344  "
      ]
     },
     "execution_count": 59,
     "metadata": {},
     "output_type": "execute_result"
    }
   ],
   "source": [
    "df_processed.head()"
   ]
  },
  {
   "cell_type": "markdown",
   "id": "8e806467",
   "metadata": {},
   "source": [
    "### Export Results"
   ]
  },
  {
   "cell_type": "code",
   "execution_count": 60,
   "id": "85ea3896",
   "metadata": {},
   "outputs": [],
   "source": [
    "# Predict current credit loans\n",
    "\n",
    "df_current = pd.read_csv(current_data_path)"
   ]
  },
  {
   "cell_type": "code",
   "execution_count": 61,
   "id": "3e0c1ca8",
   "metadata": {},
   "outputs": [
    {
     "data": {
      "application/vnd.microsoft.datawrangler.viewer.v0+json": {
       "columns": [
        {
         "name": "index",
         "rawType": "int64",
         "type": "integer"
        },
        {
         "name": "ID",
         "rawType": "int64",
         "type": "integer"
        },
        {
         "name": "education",
         "rawType": "object",
         "type": "string"
        },
        {
         "name": "city",
         "rawType": "object",
         "type": "string"
        },
        {
         "name": "monthly_income",
         "rawType": "float64",
         "type": "float"
        },
        {
         "name": "current_assets",
         "rawType": "float64",
         "type": "float"
        },
        {
         "name": "credit_score",
         "rawType": "int64",
         "type": "integer"
        },
        {
         "name": "Monto",
         "rawType": "object",
         "type": "string"
        }
       ],
       "conversionMethod": "pd.DataFrame",
       "ref": "8c0f064d-2938-4cfa-8f8a-c5dd80f1ab88",
       "rows": [
        [
         "0",
         "6330126953",
         "school",
         "Cali",
         "8939.64",
         "43688.17",
         "577",
         "$ 15,559,852"
        ],
        [
         "1",
         "1095851485",
         "master",
         "Bogota",
         "6315.23",
         "48059.17",
         "16",
         "$ 523,804"
        ],
        [
         "2",
         "1207726431",
         "undergraduate",
         "Cali",
         "13111.08",
         "61617.49",
         "663",
         "$ 6,340,907"
        ],
        [
         "3",
         "8874502266",
         "undergraduate",
         "Medellin",
         "11469.24",
         "40144.8",
         "694",
         "$ 14,228,363"
        ],
        [
         "4",
         "4218374299",
         "phd",
         "Barranquilla",
         "7196.54",
         "56586.85",
         "36",
         "$ 17,492,258"
        ]
       ],
       "shape": {
        "columns": 7,
        "rows": 5
       }
      },
      "text/html": [
       "<div>\n",
       "<style scoped>\n",
       "    .dataframe tbody tr th:only-of-type {\n",
       "        vertical-align: middle;\n",
       "    }\n",
       "\n",
       "    .dataframe tbody tr th {\n",
       "        vertical-align: top;\n",
       "    }\n",
       "\n",
       "    .dataframe thead th {\n",
       "        text-align: right;\n",
       "    }\n",
       "</style>\n",
       "<table border=\"1\" class=\"dataframe\">\n",
       "  <thead>\n",
       "    <tr style=\"text-align: right;\">\n",
       "      <th></th>\n",
       "      <th>ID</th>\n",
       "      <th>education</th>\n",
       "      <th>city</th>\n",
       "      <th>monthly_income</th>\n",
       "      <th>current_assets</th>\n",
       "      <th>credit_score</th>\n",
       "      <th>Monto</th>\n",
       "    </tr>\n",
       "  </thead>\n",
       "  <tbody>\n",
       "    <tr>\n",
       "      <th>0</th>\n",
       "      <td>6330126953</td>\n",
       "      <td>school</td>\n",
       "      <td>Cali</td>\n",
       "      <td>8939.64</td>\n",
       "      <td>43688.17</td>\n",
       "      <td>577</td>\n",
       "      <td>$ 15,559,852</td>\n",
       "    </tr>\n",
       "    <tr>\n",
       "      <th>1</th>\n",
       "      <td>1095851485</td>\n",
       "      <td>master</td>\n",
       "      <td>Bogota</td>\n",
       "      <td>6315.23</td>\n",
       "      <td>48059.17</td>\n",
       "      <td>16</td>\n",
       "      <td>$ 523,804</td>\n",
       "    </tr>\n",
       "    <tr>\n",
       "      <th>2</th>\n",
       "      <td>1207726431</td>\n",
       "      <td>undergraduate</td>\n",
       "      <td>Cali</td>\n",
       "      <td>13111.08</td>\n",
       "      <td>61617.49</td>\n",
       "      <td>663</td>\n",
       "      <td>$ 6,340,907</td>\n",
       "    </tr>\n",
       "    <tr>\n",
       "      <th>3</th>\n",
       "      <td>8874502266</td>\n",
       "      <td>undergraduate</td>\n",
       "      <td>Medellin</td>\n",
       "      <td>11469.24</td>\n",
       "      <td>40144.80</td>\n",
       "      <td>694</td>\n",
       "      <td>$ 14,228,363</td>\n",
       "    </tr>\n",
       "    <tr>\n",
       "      <th>4</th>\n",
       "      <td>4218374299</td>\n",
       "      <td>phd</td>\n",
       "      <td>Barranquilla</td>\n",
       "      <td>7196.54</td>\n",
       "      <td>56586.85</td>\n",
       "      <td>36</td>\n",
       "      <td>$ 17,492,258</td>\n",
       "    </tr>\n",
       "  </tbody>\n",
       "</table>\n",
       "</div>"
      ],
      "text/plain": [
       "           ID      education          city  monthly_income  current_assets  \\\n",
       "0  6330126953         school          Cali         8939.64        43688.17   \n",
       "1  1095851485         master        Bogota         6315.23        48059.17   \n",
       "2  1207726431  undergraduate          Cali        13111.08        61617.49   \n",
       "3  8874502266  undergraduate      Medellin        11469.24        40144.80   \n",
       "4  4218374299            phd  Barranquilla         7196.54        56586.85   \n",
       "\n",
       "   credit_score         Monto  \n",
       "0           577  $ 15,559,852  \n",
       "1            16     $ 523,804  \n",
       "2           663   $ 6,340,907  \n",
       "3           694  $ 14,228,363  \n",
       "4            36  $ 17,492,258  "
      ]
     },
     "execution_count": 61,
     "metadata": {},
     "output_type": "execute_result"
    }
   ],
   "source": [
    "df_current.head()"
   ]
  },
  {
   "cell_type": "code",
   "execution_count": 62,
   "id": "2e9214e1",
   "metadata": {},
   "outputs": [],
   "source": [
    "# Limpiar columna monto\n",
    "\n",
    "df_current['Monto'] = df_current['Monto'].replace({'\\$': '', ',': ''}, regex=True)\n",
    "df_current['Monto'] = df_current['Monto'].astype(float)"
   ]
  },
  {
   "cell_type": "code",
   "execution_count": 63,
   "id": "b640745f",
   "metadata": {},
   "outputs": [
    {
     "data": {
      "application/vnd.microsoft.datawrangler.viewer.v0+json": {
       "columns": [
        {
         "name": "index",
         "rawType": "int64",
         "type": "integer"
        },
        {
         "name": "ID",
         "rawType": "int64",
         "type": "integer"
        },
        {
         "name": "education",
         "rawType": "object",
         "type": "string"
        },
        {
         "name": "city",
         "rawType": "object",
         "type": "string"
        },
        {
         "name": "monthly_income",
         "rawType": "float64",
         "type": "float"
        },
        {
         "name": "current_assets",
         "rawType": "float64",
         "type": "float"
        },
        {
         "name": "credit_score",
         "rawType": "int64",
         "type": "integer"
        },
        {
         "name": "Monto",
         "rawType": "float64",
         "type": "float"
        }
       ],
       "conversionMethod": "pd.DataFrame",
       "ref": "1ede62bb-01a9-47b7-bb93-2a7bcbf7f0b9",
       "rows": [
        [
         "0",
         "6330126953",
         "school",
         "Cali",
         "8939.64",
         "43688.17",
         "577",
         "15559852.0"
        ],
        [
         "1",
         "1095851485",
         "master",
         "Bogota",
         "6315.23",
         "48059.17",
         "16",
         "523804.0"
        ],
        [
         "2",
         "1207726431",
         "undergraduate",
         "Cali",
         "13111.08",
         "61617.49",
         "663",
         "6340907.0"
        ],
        [
         "3",
         "8874502266",
         "undergraduate",
         "Medellin",
         "11469.24",
         "40144.8",
         "694",
         "14228363.0"
        ],
        [
         "4",
         "4218374299",
         "phd",
         "Barranquilla",
         "7196.54",
         "56586.85",
         "36",
         "17492258.0"
        ]
       ],
       "shape": {
        "columns": 7,
        "rows": 5
       }
      },
      "text/html": [
       "<div>\n",
       "<style scoped>\n",
       "    .dataframe tbody tr th:only-of-type {\n",
       "        vertical-align: middle;\n",
       "    }\n",
       "\n",
       "    .dataframe tbody tr th {\n",
       "        vertical-align: top;\n",
       "    }\n",
       "\n",
       "    .dataframe thead th {\n",
       "        text-align: right;\n",
       "    }\n",
       "</style>\n",
       "<table border=\"1\" class=\"dataframe\">\n",
       "  <thead>\n",
       "    <tr style=\"text-align: right;\">\n",
       "      <th></th>\n",
       "      <th>ID</th>\n",
       "      <th>education</th>\n",
       "      <th>city</th>\n",
       "      <th>monthly_income</th>\n",
       "      <th>current_assets</th>\n",
       "      <th>credit_score</th>\n",
       "      <th>Monto</th>\n",
       "    </tr>\n",
       "  </thead>\n",
       "  <tbody>\n",
       "    <tr>\n",
       "      <th>0</th>\n",
       "      <td>6330126953</td>\n",
       "      <td>school</td>\n",
       "      <td>Cali</td>\n",
       "      <td>8939.64</td>\n",
       "      <td>43688.17</td>\n",
       "      <td>577</td>\n",
       "      <td>15559852.0</td>\n",
       "    </tr>\n",
       "    <tr>\n",
       "      <th>1</th>\n",
       "      <td>1095851485</td>\n",
       "      <td>master</td>\n",
       "      <td>Bogota</td>\n",
       "      <td>6315.23</td>\n",
       "      <td>48059.17</td>\n",
       "      <td>16</td>\n",
       "      <td>523804.0</td>\n",
       "    </tr>\n",
       "    <tr>\n",
       "      <th>2</th>\n",
       "      <td>1207726431</td>\n",
       "      <td>undergraduate</td>\n",
       "      <td>Cali</td>\n",
       "      <td>13111.08</td>\n",
       "      <td>61617.49</td>\n",
       "      <td>663</td>\n",
       "      <td>6340907.0</td>\n",
       "    </tr>\n",
       "    <tr>\n",
       "      <th>3</th>\n",
       "      <td>8874502266</td>\n",
       "      <td>undergraduate</td>\n",
       "      <td>Medellin</td>\n",
       "      <td>11469.24</td>\n",
       "      <td>40144.80</td>\n",
       "      <td>694</td>\n",
       "      <td>14228363.0</td>\n",
       "    </tr>\n",
       "    <tr>\n",
       "      <th>4</th>\n",
       "      <td>4218374299</td>\n",
       "      <td>phd</td>\n",
       "      <td>Barranquilla</td>\n",
       "      <td>7196.54</td>\n",
       "      <td>56586.85</td>\n",
       "      <td>36</td>\n",
       "      <td>17492258.0</td>\n",
       "    </tr>\n",
       "  </tbody>\n",
       "</table>\n",
       "</div>"
      ],
      "text/plain": [
       "           ID      education          city  monthly_income  current_assets  \\\n",
       "0  6330126953         school          Cali         8939.64        43688.17   \n",
       "1  1095851485         master        Bogota         6315.23        48059.17   \n",
       "2  1207726431  undergraduate          Cali        13111.08        61617.49   \n",
       "3  8874502266  undergraduate      Medellin        11469.24        40144.80   \n",
       "4  4218374299            phd  Barranquilla         7196.54        56586.85   \n",
       "\n",
       "   credit_score       Monto  \n",
       "0           577  15559852.0  \n",
       "1            16    523804.0  \n",
       "2           663   6340907.0  \n",
       "3           694  14228363.0  \n",
       "4            36  17492258.0  "
      ]
     },
     "execution_count": 63,
     "metadata": {},
     "output_type": "execute_result"
    }
   ],
   "source": [
    "df_current.head()"
   ]
  },
  {
   "cell_type": "code",
   "execution_count": 64,
   "id": "3d999f4e",
   "metadata": {},
   "outputs": [],
   "source": [
    "df_current.drop(\"ID\", axis=1, inplace=True)\n",
    "\n",
    "# Convert to numerical\n",
    "df_current[\"city\"] = pd.factorize(values=df_current[\"city\"])[0]\n",
    "df_current[\"education\"] = pd.factorize(values=df_current[\"education\"])[0]"
   ]
  },
  {
   "cell_type": "code",
   "execution_count": 65,
   "id": "4ee9709e",
   "metadata": {},
   "outputs": [],
   "source": [
    "X = df_current[input_cols]\n",
    "X = pd.DataFrame(data=scaler.transform(X), columns=X.columns)  #Solo transformar para prevenir data leakage"
   ]
  },
  {
   "cell_type": "code",
   "execution_count": 66,
   "id": "da950d43",
   "metadata": {},
   "outputs": [],
   "source": [
    "df_current[\"paid_in_full_likelihood\"] = model.predict_proba(X)[:, 1]"
   ]
  },
  {
   "cell_type": "code",
   "execution_count": 67,
   "id": "e4ae45cb",
   "metadata": {},
   "outputs": [
    {
     "data": {
      "application/vnd.microsoft.datawrangler.viewer.v0+json": {
       "columns": [
        {
         "name": "index",
         "rawType": "int64",
         "type": "integer"
        },
        {
         "name": "education",
         "rawType": "int64",
         "type": "integer"
        },
        {
         "name": "city",
         "rawType": "int64",
         "type": "integer"
        },
        {
         "name": "monthly_income",
         "rawType": "float64",
         "type": "float"
        },
        {
         "name": "current_assets",
         "rawType": "float64",
         "type": "float"
        },
        {
         "name": "credit_score",
         "rawType": "int64",
         "type": "integer"
        },
        {
         "name": "Monto",
         "rawType": "float64",
         "type": "float"
        },
        {
         "name": "paid_in_full_likelihood",
         "rawType": "float64",
         "type": "float"
        }
       ],
       "conversionMethod": "pd.DataFrame",
       "ref": "66202755-4415-4176-bf09-dd44d7d4b477",
       "rows": [
        [
         "0",
         "0",
         "0",
         "8939.64",
         "43688.17",
         "577",
         "15559852.0",
         "0.12087085523873438"
        ],
        [
         "1",
         "1",
         "1",
         "6315.23",
         "48059.17",
         "16",
         "523804.0",
         "0.07852086241164087"
        ],
        [
         "2",
         "2",
         "0",
         "13111.08",
         "61617.49",
         "663",
         "6340907.0",
         "0.6562837854865707"
        ],
        [
         "3",
         "2",
         "2",
         "11469.24",
         "40144.8",
         "694",
         "14228363.0",
         "0.2903682112241773"
        ],
        [
         "4",
         "3",
         "3",
         "7196.54",
         "56586.85",
         "36",
         "17492258.0",
         "0.07279502246143338"
        ],
        [
         "5",
         "0",
         "0",
         "6468.28",
         "72936.76",
         "22",
         "14950596.0",
         "0.042774469213362774"
        ],
        [
         "6",
         "3",
         "4",
         "12274.46",
         "38178.22",
         "167",
         "2751399.0",
         "0.3311746163658386"
        ],
        [
         "7",
         "3",
         "1",
         "16026.83",
         "72955.17",
         "741",
         "6046984.0",
         "0.8354913252374919"
        ],
        [
         "8",
         "2",
         "0",
         "4854.91",
         "31590.61",
         "132",
         "17994916.0",
         "0.0977977930569376"
        ],
        [
         "9",
         "2",
         "2",
         "14740.12",
         "70618.51",
         "709",
         "15431096.0",
         "0.4769600316833258"
        ],
        [
         "10",
         "3",
         "3",
         "14762.86",
         "93779.32",
         "372",
         "18183058.0",
         "0.42311808937392964"
        ],
        [
         "11",
         "0",
         "2",
         "4203.59",
         "53277.4",
         "4",
         "4289831.0",
         "0.012227152529564713"
        ],
        [
         "12",
         "1",
         "0",
         "9244.09",
         "69835.37",
         "55",
         "12195294.0",
         "0.18487314586254247"
        ],
        [
         "13",
         "2",
         "4",
         "13002.31",
         "44586.17",
         "693",
         "12628771.0",
         "0.2077970118109729"
        ],
        [
         "14",
         "2",
         "4",
         "7528.58",
         "7555.83",
         "544",
         "4586399.0",
         "0.06558281894018071"
        ],
        [
         "15",
         "1",
         "3",
         "10216.74",
         "43419.58",
         "654",
         "9952969.0",
         "0.09167243123467507"
        ],
        [
         "16",
         "1",
         "0",
         "8747.87",
         "18338.62",
         "493",
         "3871420.0",
         "0.28250072215070526"
        ],
        [
         "17",
         "2",
         "0",
         "8373.77",
         "37287.98",
         "428",
         "16202073.0",
         "0.2662489808660908"
        ],
        [
         "18",
         "1",
         "1",
         "8840.89",
         "30124.31",
         "523",
         "15289489.0",
         "0.14126122870948468"
        ],
        [
         "19",
         "1",
         "2",
         "8949.45",
         "9195.94",
         "549",
         "12177902.0",
         "0.12277314712649562"
        ],
        [
         "20",
         "2",
         "1",
         "5136.69",
         "48445.04",
         "29",
         "2869228.0",
         "0.08493827149331284"
        ],
        [
         "21",
         "3",
         "3",
         "11073.55",
         "61842.18",
         "439",
         "3643151.0",
         "0.29106423242081036"
        ],
        [
         "22",
         "1",
         "0",
         "8267.2",
         "39562.53",
         "126",
         "11805371.0",
         "0.18029013264322508"
        ],
        [
         "23",
         "2",
         "1",
         "11771.73",
         "86327.59",
         "447",
         "19100463.0",
         "0.2925450389872848"
        ],
        [
         "24",
         "0",
         "4",
         "8687.21",
         "51464.11",
         "510",
         "4869838.0",
         "0.02158383868731626"
        ],
        [
         "25",
         "2",
         "1",
         "12699.17",
         "89788.0",
         "450",
         "379703.0",
         "0.4746908150391909"
        ],
        [
         "26",
         "3",
         "0",
         "13435.38",
         "60987.13",
         "249",
         "421272.0",
         "0.8152419047812869"
        ],
        [
         "27",
         "2",
         "2",
         "8705.4",
         "43494.06",
         "395",
         "9274207.0",
         "0.14791879200247912"
        ],
        [
         "28",
         "3",
         "0",
         "15598.09",
         "36662.93",
         "753",
         "198644.0",
         "0.9223904236465857"
        ],
        [
         "29",
         "2",
         "4",
         "8024.33",
         "19910.48",
         "289",
         "11025063.0",
         "0.05870907048622659"
        ],
        [
         "30",
         "0",
         "4",
         "4560.22",
         "0.0",
         "780",
         "5197429.0",
         "0.008595510817324238"
        ],
        [
         "31",
         "2",
         "2",
         "12462.34",
         "78142.89",
         "481",
         "8214393.0",
         "0.31797281544035677"
        ],
        [
         "32",
         "3",
         "3",
         "20373.45",
         "99060.73",
         "797",
         "2716763.0",
         "0.8794475787895006"
        ],
        [
         "33",
         "1",
         "1",
         "9389.38",
         "68396.98",
         "56",
         "4957328.0",
         "0.15249492542444482"
        ],
        [
         "34",
         "2",
         "2",
         "7247.16",
         "1754.78",
         "469",
         "2360364.0",
         "0.15931578089925003"
        ],
        [
         "35",
         "0",
         "1",
         "7653.18",
         "97162.37",
         "57",
         "5977079.0",
         "0.03968006299865209"
        ],
        [
         "36",
         "3",
         "3",
         "10878.65",
         "30495.99",
         "715",
         "18347838.0",
         "0.26121225692058575"
        ],
        [
         "37",
         "0",
         "0",
         "7634.12",
         "53150.23",
         "261",
         "10096380.0",
         "0.08447913997208892"
        ],
        [
         "38",
         "0",
         "4",
         "4222.42",
         "39253.64",
         "92",
         "11026213.0",
         "0.004495540618956562"
        ],
        [
         "39",
         "0",
         "4",
         "7345.01",
         "64792.55",
         "221",
         "17021178.0",
         "0.008757739211893137"
        ],
        [
         "40",
         "2",
         "3",
         "7408.57",
         "86108.15",
         "32",
         "4112765.0",
         "0.04889847621708342"
        ],
        [
         "41",
         "1",
         "1",
         "11574.66",
         "49612.47",
         "646",
         "5182937.0",
         "0.3135658469870852"
        ],
        [
         "42",
         "0",
         "4",
         "7798.09",
         "42118.42",
         "512",
         "19206391.0",
         "0.012024030933945383"
        ],
        [
         "43",
         "0",
         "4",
         "6968.09",
         "32397.3",
         "536",
         "19445423.0",
         "0.009881957079889085"
        ],
        [
         "44",
         "1",
         "4",
         "13435.74",
         "38842.56",
         "577",
         "2643599.0",
         "0.19362069333490267"
        ],
        [
         "45",
         "2",
         "1",
         "7835.28",
         "36724.83",
         "641",
         "17850444.0",
         "0.15096851918060758"
        ],
        [
         "46",
         "0",
         "0",
         "8613.31",
         "46129.47",
         "571",
         "1479353.0",
         "0.14813366599724037"
        ],
        [
         "47",
         "2",
         "1",
         "6488.71",
         "54449.14",
         "131",
         "4590239.0",
         "0.11774398530209551"
        ],
        [
         "48",
         "3",
         "3",
         "10247.1",
         "42224.26",
         "346",
         "14021524.0",
         "0.22150525075068975"
        ],
        [
         "49",
         "2",
         "0",
         "12550.21",
         "66475.1",
         "526",
         "11814116.0",
         "0.5649041972330011"
        ]
       ],
       "shape": {
        "columns": 7,
        "rows": 300
       }
      },
      "text/html": [
       "<div>\n",
       "<style scoped>\n",
       "    .dataframe tbody tr th:only-of-type {\n",
       "        vertical-align: middle;\n",
       "    }\n",
       "\n",
       "    .dataframe tbody tr th {\n",
       "        vertical-align: top;\n",
       "    }\n",
       "\n",
       "    .dataframe thead th {\n",
       "        text-align: right;\n",
       "    }\n",
       "</style>\n",
       "<table border=\"1\" class=\"dataframe\">\n",
       "  <thead>\n",
       "    <tr style=\"text-align: right;\">\n",
       "      <th></th>\n",
       "      <th>education</th>\n",
       "      <th>city</th>\n",
       "      <th>monthly_income</th>\n",
       "      <th>current_assets</th>\n",
       "      <th>credit_score</th>\n",
       "      <th>Monto</th>\n",
       "      <th>paid_in_full_likelihood</th>\n",
       "    </tr>\n",
       "  </thead>\n",
       "  <tbody>\n",
       "    <tr>\n",
       "      <th>0</th>\n",
       "      <td>0</td>\n",
       "      <td>0</td>\n",
       "      <td>8939.64</td>\n",
       "      <td>43688.17</td>\n",
       "      <td>577</td>\n",
       "      <td>15559852.0</td>\n",
       "      <td>0.120871</td>\n",
       "    </tr>\n",
       "    <tr>\n",
       "      <th>1</th>\n",
       "      <td>1</td>\n",
       "      <td>1</td>\n",
       "      <td>6315.23</td>\n",
       "      <td>48059.17</td>\n",
       "      <td>16</td>\n",
       "      <td>523804.0</td>\n",
       "      <td>0.078521</td>\n",
       "    </tr>\n",
       "    <tr>\n",
       "      <th>2</th>\n",
       "      <td>2</td>\n",
       "      <td>0</td>\n",
       "      <td>13111.08</td>\n",
       "      <td>61617.49</td>\n",
       "      <td>663</td>\n",
       "      <td>6340907.0</td>\n",
       "      <td>0.656284</td>\n",
       "    </tr>\n",
       "    <tr>\n",
       "      <th>3</th>\n",
       "      <td>2</td>\n",
       "      <td>2</td>\n",
       "      <td>11469.24</td>\n",
       "      <td>40144.80</td>\n",
       "      <td>694</td>\n",
       "      <td>14228363.0</td>\n",
       "      <td>0.290368</td>\n",
       "    </tr>\n",
       "    <tr>\n",
       "      <th>4</th>\n",
       "      <td>3</td>\n",
       "      <td>3</td>\n",
       "      <td>7196.54</td>\n",
       "      <td>56586.85</td>\n",
       "      <td>36</td>\n",
       "      <td>17492258.0</td>\n",
       "      <td>0.072795</td>\n",
       "    </tr>\n",
       "    <tr>\n",
       "      <th>...</th>\n",
       "      <td>...</td>\n",
       "      <td>...</td>\n",
       "      <td>...</td>\n",
       "      <td>...</td>\n",
       "      <td>...</td>\n",
       "      <td>...</td>\n",
       "      <td>...</td>\n",
       "    </tr>\n",
       "    <tr>\n",
       "      <th>295</th>\n",
       "      <td>1</td>\n",
       "      <td>3</td>\n",
       "      <td>9033.51</td>\n",
       "      <td>71402.19</td>\n",
       "      <td>173</td>\n",
       "      <td>10312776.0</td>\n",
       "      <td>0.048122</td>\n",
       "    </tr>\n",
       "    <tr>\n",
       "      <th>296</th>\n",
       "      <td>0</td>\n",
       "      <td>1</td>\n",
       "      <td>6273.85</td>\n",
       "      <td>59904.20</td>\n",
       "      <td>214</td>\n",
       "      <td>4279734.0</td>\n",
       "      <td>0.037187</td>\n",
       "    </tr>\n",
       "    <tr>\n",
       "      <th>297</th>\n",
       "      <td>0</td>\n",
       "      <td>2</td>\n",
       "      <td>9783.13</td>\n",
       "      <td>13710.87</td>\n",
       "      <td>796</td>\n",
       "      <td>13599178.0</td>\n",
       "      <td>0.089391</td>\n",
       "    </tr>\n",
       "    <tr>\n",
       "      <th>298</th>\n",
       "      <td>1</td>\n",
       "      <td>1</td>\n",
       "      <td>14829.08</td>\n",
       "      <td>81929.52</td>\n",
       "      <td>718</td>\n",
       "      <td>15478847.0</td>\n",
       "      <td>0.438663</td>\n",
       "    </tr>\n",
       "    <tr>\n",
       "      <th>299</th>\n",
       "      <td>0</td>\n",
       "      <td>4</td>\n",
       "      <td>4620.11</td>\n",
       "      <td>24573.16</td>\n",
       "      <td>262</td>\n",
       "      <td>17833490.0</td>\n",
       "      <td>0.004972</td>\n",
       "    </tr>\n",
       "  </tbody>\n",
       "</table>\n",
       "<p>300 rows × 7 columns</p>\n",
       "</div>"
      ],
      "text/plain": [
       "     education  city  monthly_income  current_assets  credit_score  \\\n",
       "0            0     0         8939.64        43688.17           577   \n",
       "1            1     1         6315.23        48059.17            16   \n",
       "2            2     0        13111.08        61617.49           663   \n",
       "3            2     2        11469.24        40144.80           694   \n",
       "4            3     3         7196.54        56586.85            36   \n",
       "..         ...   ...             ...             ...           ...   \n",
       "295          1     3         9033.51        71402.19           173   \n",
       "296          0     1         6273.85        59904.20           214   \n",
       "297          0     2         9783.13        13710.87           796   \n",
       "298          1     1        14829.08        81929.52           718   \n",
       "299          0     4         4620.11        24573.16           262   \n",
       "\n",
       "          Monto  paid_in_full_likelihood  \n",
       "0    15559852.0                 0.120871  \n",
       "1      523804.0                 0.078521  \n",
       "2     6340907.0                 0.656284  \n",
       "3    14228363.0                 0.290368  \n",
       "4    17492258.0                 0.072795  \n",
       "..          ...                      ...  \n",
       "295  10312776.0                 0.048122  \n",
       "296   4279734.0                 0.037187  \n",
       "297  13599178.0                 0.089391  \n",
       "298  15478847.0                 0.438663  \n",
       "299  17833490.0                 0.004972  \n",
       "\n",
       "[300 rows x 7 columns]"
      ]
     },
     "execution_count": 67,
     "metadata": {},
     "output_type": "execute_result"
    }
   ],
   "source": [
    "df_current"
   ]
  },
  {
   "cell_type": "code",
   "execution_count": 68,
   "id": "9ce6c9d6",
   "metadata": {},
   "outputs": [],
   "source": [
    "df_current.to_csv(output_data_path)  #TODO: Export in legible COls"
   ]
  },
  {
   "cell_type": "code",
   "execution_count": 69,
   "id": "1e32d43a",
   "metadata": {},
   "outputs": [
    {
     "data": {
      "text/plain": [
       "['../models/risk_model.pkl']"
      ]
     },
     "execution_count": 69,
     "metadata": {},
     "output_type": "execute_result"
    }
   ],
   "source": [
    "import joblib\n",
    "joblib.dump(model, '../models/risk_model.pkl')"
   ]
  },
  {
   "cell_type": "markdown",
   "id": "3005db0b",
   "metadata": {},
   "source": [
    "### Model Explainability"
   ]
  },
  {
   "cell_type": "code",
   "execution_count": 70,
   "id": "b5526da1",
   "metadata": {},
   "outputs": [
    {
     "name": "stderr",
     "output_type": "stream",
     "text": [
      "100%|██████████| 300/300 [00:01<00:00, 246.10it/s]\n"
     ]
    },
    {
     "name": "stdout",
     "output_type": "stream",
     "text": [
      "Forma de shap_values: 300\n"
     ]
    },
    {
     "data": {
      "text/plain": [
       "<Figure size 640x480 with 0 Axes>"
      ]
     },
     "metadata": {},
     "output_type": "display_data"
    }
   ],
   "source": [
    "import shap\n",
    "import matplotlib.pyplot as plt\n",
    "from sklearn.linear_model import LogisticRegression\n",
    "\n",
    "\n",
    "def model_predict(x):\n",
    "    return model.predict_proba(x)\n",
    "\n",
    "explainer = shap.KernelExplainer(model_predict, X.iloc[:100])  # Usamos una muestra del dataset para el explainer\n",
    "shap_values = explainer.shap_values(X)\n",
    "\n",
    "print(f\"Forma de shap_values: {len(shap_values)}\")\n",
    "\n",
    "plt.figure()\n",
    "shap_summary_plot = shap.summary_plot(shap_values[:, :, 0], X, show=False)\n",
    "plt.title('SHAP Summary Plot')\n",
    "#plt.plot(shap_summary_plot)\n",
    "plt.savefig('../images/shap_summary_plot.png', dpi=300, bbox_inches='tight')\n",
    "plt.close()\n",
    "\n",
    "plt.figure()\n",
    "shap_dependence_plot = shap.dependence_plot(\"monthly_income\", shap_values[:, :, 0], X, show=False)\n",
    "plt.title('SHAP Dependence Plot - Monthly Income')\n",
    "#plt.plot(shap_dependence_plot)\n",
    "plt.savefig('../images/shap_dependence_plot_monthly_income.png', dpi=300, bbox_inches='tight')\n",
    "plt.close()\n"
   ]
  },
  {
   "cell_type": "code",
   "execution_count": 71,
   "id": "7d149d8b",
   "metadata": {},
   "outputs": [
    {
     "name": "stdout",
     "output_type": "stream",
     "text": [
      "Gráficos guardados como 'shap_summary_plot.png' y 'shap_dependence_plot_monthly_income.png'.\n"
     ]
    }
   ],
   "source": [
    "print(\"Gráficos guardados como 'shap_summary_plot.png' y 'shap_dependence_plot_monthly_income.png'.\")"
   ]
  },
  {
   "cell_type": "markdown",
   "id": "da8bc8f5",
   "metadata": {},
   "source": [
    "### Calculo de Provision "
   ]
  },
  {
   "cell_type": "code",
   "execution_count": null,
   "id": "3e3a92fb",
   "metadata": {},
   "outputs": [
    {
     "data": {
      "application/vnd.microsoft.datawrangler.viewer.v0+json": {
       "columns": [
        {
         "name": "index",
         "rawType": "int64",
         "type": "integer"
        },
        {
         "name": "education",
         "rawType": "int64",
         "type": "integer"
        },
        {
         "name": "city",
         "rawType": "int64",
         "type": "integer"
        },
        {
         "name": "monthly_income",
         "rawType": "float64",
         "type": "float"
        },
        {
         "name": "current_assets",
         "rawType": "float64",
         "type": "float"
        },
        {
         "name": "credit_score",
         "rawType": "int64",
         "type": "integer"
        },
        {
         "name": "Monto",
         "rawType": "float64",
         "type": "float"
        },
        {
         "name": "paid_in_full_likelihood",
         "rawType": "float64",
         "type": "float"
        }
       ],
       "conversionMethod": "pd.DataFrame",
       "ref": "b8650da1-30fa-4586-9f9b-5cad33131bf2",
       "rows": [
        [
         "0",
         "0",
         "0",
         "8939.64",
         "43688.17",
         "577",
         "15559852.0",
         "0.12087085523873438"
        ],
        [
         "1",
         "1",
         "1",
         "6315.23",
         "48059.17",
         "16",
         "523804.0",
         "0.07852086241164087"
        ],
        [
         "2",
         "2",
         "0",
         "13111.08",
         "61617.49",
         "663",
         "6340907.0",
         "0.6562837854865707"
        ],
        [
         "3",
         "2",
         "2",
         "11469.24",
         "40144.8",
         "694",
         "14228363.0",
         "0.2903682112241773"
        ],
        [
         "4",
         "3",
         "3",
         "7196.54",
         "56586.85",
         "36",
         "17492258.0",
         "0.07279502246143338"
        ]
       ],
       "shape": {
        "columns": 7,
        "rows": 5
       }
      },
      "text/html": [
       "<div>\n",
       "<style scoped>\n",
       "    .dataframe tbody tr th:only-of-type {\n",
       "        vertical-align: middle;\n",
       "    }\n",
       "\n",
       "    .dataframe tbody tr th {\n",
       "        vertical-align: top;\n",
       "    }\n",
       "\n",
       "    .dataframe thead th {\n",
       "        text-align: right;\n",
       "    }\n",
       "</style>\n",
       "<table border=\"1\" class=\"dataframe\">\n",
       "  <thead>\n",
       "    <tr style=\"text-align: right;\">\n",
       "      <th></th>\n",
       "      <th>education</th>\n",
       "      <th>city</th>\n",
       "      <th>monthly_income</th>\n",
       "      <th>current_assets</th>\n",
       "      <th>credit_score</th>\n",
       "      <th>Monto</th>\n",
       "      <th>paid_in_full_likelihood</th>\n",
       "    </tr>\n",
       "  </thead>\n",
       "  <tbody>\n",
       "    <tr>\n",
       "      <th>0</th>\n",
       "      <td>0</td>\n",
       "      <td>0</td>\n",
       "      <td>8939.64</td>\n",
       "      <td>43688.17</td>\n",
       "      <td>577</td>\n",
       "      <td>15559852.0</td>\n",
       "      <td>0.120871</td>\n",
       "    </tr>\n",
       "    <tr>\n",
       "      <th>1</th>\n",
       "      <td>1</td>\n",
       "      <td>1</td>\n",
       "      <td>6315.23</td>\n",
       "      <td>48059.17</td>\n",
       "      <td>16</td>\n",
       "      <td>523804.0</td>\n",
       "      <td>0.078521</td>\n",
       "    </tr>\n",
       "    <tr>\n",
       "      <th>2</th>\n",
       "      <td>2</td>\n",
       "      <td>0</td>\n",
       "      <td>13111.08</td>\n",
       "      <td>61617.49</td>\n",
       "      <td>663</td>\n",
       "      <td>6340907.0</td>\n",
       "      <td>0.656284</td>\n",
       "    </tr>\n",
       "    <tr>\n",
       "      <th>3</th>\n",
       "      <td>2</td>\n",
       "      <td>2</td>\n",
       "      <td>11469.24</td>\n",
       "      <td>40144.80</td>\n",
       "      <td>694</td>\n",
       "      <td>14228363.0</td>\n",
       "      <td>0.290368</td>\n",
       "    </tr>\n",
       "    <tr>\n",
       "      <th>4</th>\n",
       "      <td>3</td>\n",
       "      <td>3</td>\n",
       "      <td>7196.54</td>\n",
       "      <td>56586.85</td>\n",
       "      <td>36</td>\n",
       "      <td>17492258.0</td>\n",
       "      <td>0.072795</td>\n",
       "    </tr>\n",
       "  </tbody>\n",
       "</table>\n",
       "</div>"
      ],
      "text/plain": [
       "   education  city  monthly_income  current_assets  credit_score       Monto  \\\n",
       "0          0     0         8939.64        43688.17           577  15559852.0   \n",
       "1          1     1         6315.23        48059.17            16    523804.0   \n",
       "2          2     0        13111.08        61617.49           663   6340907.0   \n",
       "3          2     2        11469.24        40144.80           694  14228363.0   \n",
       "4          3     3         7196.54        56586.85            36  17492258.0   \n",
       "\n",
       "   paid_in_full_likelihood  \n",
       "0                 0.120871  \n",
       "1                 0.078521  \n",
       "2                 0.656284  \n",
       "3                 0.290368  \n",
       "4                 0.072795  "
      ]
     },
     "execution_count": 72,
     "metadata": {},
     "output_type": "execute_result"
    }
   ],
   "source": [
    "df_current.head()"
   ]
  },
  {
   "cell_type": "code",
   "execution_count": null,
   "id": "faca2bc4",
   "metadata": {},
   "outputs": [],
   "source": [
    "df_processed[\"default_prob\"] = 1 - df_processed[\"paid_in_full_likelihood\"]\n",
    "df_current[\"default_prob\"] = 1 - df_processed[\"paid_in_full_likelihood\"]"
   ]
  },
  {
   "cell_type": "code",
   "execution_count": null,
   "id": "ea62d850",
   "metadata": {},
   "outputs": [],
   "source": [
    "df_processed[\"credit_provision\"] = df_processed[\"Monto\"] * df_processed[\"default_prob\"]\n",
    "df_current[\"credit_provision\"] = df_current[\"Monto\"] * df_current[\"default_prob\"]"
   ]
  },
  {
   "cell_type": "code",
   "execution_count": null,
   "id": "3e6dafb1",
   "metadata": {},
   "outputs": [
    {
     "data": {
      "application/vnd.microsoft.datawrangler.viewer.v0+json": {
       "columns": [
        {
         "name": "index",
         "rawType": "int64",
         "type": "integer"
        },
        {
         "name": "education",
         "rawType": "int64",
         "type": "integer"
        },
        {
         "name": "city",
         "rawType": "int64",
         "type": "integer"
        },
        {
         "name": "monthly_income",
         "rawType": "float64",
         "type": "float"
        },
        {
         "name": "current_assets",
         "rawType": "float64",
         "type": "float"
        },
        {
         "name": "credit_score",
         "rawType": "int64",
         "type": "integer"
        },
        {
         "name": "Monto",
         "rawType": "float64",
         "type": "float"
        },
        {
         "name": "paid_in_full_likelihood",
         "rawType": "float64",
         "type": "float"
        },
        {
         "name": "default_prob",
         "rawType": "float64",
         "type": "float"
        },
        {
         "name": "credit_provision",
         "rawType": "float64",
         "type": "float"
        }
       ],
       "conversionMethod": "pd.DataFrame",
       "ref": "80a9e06c-f808-4b7c-8db4-f80f2c5d2b87",
       "rows": [
        [
         "0",
         "0",
         "0",
         "8939.64",
         "43688.17",
         "577",
         "15559852.0",
         "0.12087085523873438",
         "0.6981813493981421",
         "10863598.465795381"
        ],
        [
         "1",
         "1",
         "1",
         "6315.23",
         "48059.17",
         "16",
         "523804.0",
         "0.07852086241164087",
         "0.21457416936325002",
         "112394.80820914781"
        ],
        [
         "2",
         "2",
         "0",
         "13111.08",
         "61617.49",
         "663",
         "6340907.0",
         "0.6562837854865707",
         "0.8953614357864585",
         "5677403.595708406"
        ],
        [
         "3",
         "2",
         "2",
         "11469.24",
         "40144.8",
         "694",
         "14228363.0",
         "0.2903682112241773",
         "0.8786528542043603",
         "12501791.760605715"
        ],
        [
         "4",
         "3",
         "3",
         "7196.54",
         "56586.85",
         "36",
         "17492258.0",
         "0.07279502246143338",
         "0.8766556740107512",
         "15334687.226959955"
        ]
       ],
       "shape": {
        "columns": 9,
        "rows": 5
       }
      },
      "text/html": [
       "<div>\n",
       "<style scoped>\n",
       "    .dataframe tbody tr th:only-of-type {\n",
       "        vertical-align: middle;\n",
       "    }\n",
       "\n",
       "    .dataframe tbody tr th {\n",
       "        vertical-align: top;\n",
       "    }\n",
       "\n",
       "    .dataframe thead th {\n",
       "        text-align: right;\n",
       "    }\n",
       "</style>\n",
       "<table border=\"1\" class=\"dataframe\">\n",
       "  <thead>\n",
       "    <tr style=\"text-align: right;\">\n",
       "      <th></th>\n",
       "      <th>education</th>\n",
       "      <th>city</th>\n",
       "      <th>monthly_income</th>\n",
       "      <th>current_assets</th>\n",
       "      <th>credit_score</th>\n",
       "      <th>Monto</th>\n",
       "      <th>paid_in_full_likelihood</th>\n",
       "      <th>default_prob</th>\n",
       "      <th>credit_provision</th>\n",
       "    </tr>\n",
       "  </thead>\n",
       "  <tbody>\n",
       "    <tr>\n",
       "      <th>0</th>\n",
       "      <td>0</td>\n",
       "      <td>0</td>\n",
       "      <td>8939.64</td>\n",
       "      <td>43688.17</td>\n",
       "      <td>577</td>\n",
       "      <td>15559852.0</td>\n",
       "      <td>0.120871</td>\n",
       "      <td>0.698181</td>\n",
       "      <td>1.086360e+07</td>\n",
       "    </tr>\n",
       "    <tr>\n",
       "      <th>1</th>\n",
       "      <td>1</td>\n",
       "      <td>1</td>\n",
       "      <td>6315.23</td>\n",
       "      <td>48059.17</td>\n",
       "      <td>16</td>\n",
       "      <td>523804.0</td>\n",
       "      <td>0.078521</td>\n",
       "      <td>0.214574</td>\n",
       "      <td>1.123948e+05</td>\n",
       "    </tr>\n",
       "    <tr>\n",
       "      <th>2</th>\n",
       "      <td>2</td>\n",
       "      <td>0</td>\n",
       "      <td>13111.08</td>\n",
       "      <td>61617.49</td>\n",
       "      <td>663</td>\n",
       "      <td>6340907.0</td>\n",
       "      <td>0.656284</td>\n",
       "      <td>0.895361</td>\n",
       "      <td>5.677404e+06</td>\n",
       "    </tr>\n",
       "    <tr>\n",
       "      <th>3</th>\n",
       "      <td>2</td>\n",
       "      <td>2</td>\n",
       "      <td>11469.24</td>\n",
       "      <td>40144.80</td>\n",
       "      <td>694</td>\n",
       "      <td>14228363.0</td>\n",
       "      <td>0.290368</td>\n",
       "      <td>0.878653</td>\n",
       "      <td>1.250179e+07</td>\n",
       "    </tr>\n",
       "    <tr>\n",
       "      <th>4</th>\n",
       "      <td>3</td>\n",
       "      <td>3</td>\n",
       "      <td>7196.54</td>\n",
       "      <td>56586.85</td>\n",
       "      <td>36</td>\n",
       "      <td>17492258.0</td>\n",
       "      <td>0.072795</td>\n",
       "      <td>0.876656</td>\n",
       "      <td>1.533469e+07</td>\n",
       "    </tr>\n",
       "  </tbody>\n",
       "</table>\n",
       "</div>"
      ],
      "text/plain": [
       "   education  city  monthly_income  current_assets  credit_score       Monto  \\\n",
       "0          0     0         8939.64        43688.17           577  15559852.0   \n",
       "1          1     1         6315.23        48059.17            16    523804.0   \n",
       "2          2     0        13111.08        61617.49           663   6340907.0   \n",
       "3          2     2        11469.24        40144.80           694  14228363.0   \n",
       "4          3     3         7196.54        56586.85            36  17492258.0   \n",
       "\n",
       "   paid_in_full_likelihood  default_prob  credit_provision  \n",
       "0                 0.120871      0.698181      1.086360e+07  \n",
       "1                 0.078521      0.214574      1.123948e+05  \n",
       "2                 0.656284      0.895361      5.677404e+06  \n",
       "3                 0.290368      0.878653      1.250179e+07  \n",
       "4                 0.072795      0.876656      1.533469e+07  "
      ]
     },
     "execution_count": 75,
     "metadata": {},
     "output_type": "execute_result"
    }
   ],
   "source": [
    "df_current.head()"
   ]
  },
  {
   "cell_type": "code",
   "execution_count": null,
   "id": "9bd9e4dd",
   "metadata": {},
   "outputs": [
    {
     "data": {
      "application/vnd.microsoft.datawrangler.viewer.v0+json": {
       "columns": [
        {
         "name": "index",
         "rawType": "int64",
         "type": "integer"
        },
        {
         "name": "education",
         "rawType": "int64",
         "type": "integer"
        },
        {
         "name": "city",
         "rawType": "int64",
         "type": "integer"
        },
        {
         "name": "monthly_income",
         "rawType": "float64",
         "type": "float"
        },
        {
         "name": "current_assets",
         "rawType": "float64",
         "type": "float"
        },
        {
         "name": "credit_score",
         "rawType": "int64",
         "type": "integer"
        },
        {
         "name": "Monto",
         "rawType": "float64",
         "type": "float"
        },
        {
         "name": "paid_in_full",
         "rawType": "int64",
         "type": "integer"
        },
        {
         "name": "loss",
         "rawType": "object",
         "type": "string"
        },
        {
         "name": "paid_in_full_likelihood",
         "rawType": "float64",
         "type": "float"
        },
        {
         "name": "default_prob",
         "rawType": "float64",
         "type": "float"
        },
        {
         "name": "credit_provision",
         "rawType": "float64",
         "type": "float"
        }
       ],
       "conversionMethod": "pd.DataFrame",
       "ref": "3e2f34b3-f673-412b-90ad-4af084194344",
       "rows": [
        [
         "0",
         "0",
         "0",
         "11474.07",
         "40530.37",
         "611",
         "6599489.0",
         "0",
         "$ 0",
         "0.3018186506018578",
         "0.6981813493981421",
         "4607640.135358196"
        ],
        [
         "1",
         "1",
         "0",
         "16686.98",
         "61403.51",
         "765",
         "7466025.0",
         "1",
         "$ 5,606,767",
         "0.78542583063675",
         "0.21457416936325002",
         "1602016.1128202588"
        ],
        [
         "2",
         "0",
         "1",
         "9928.97",
         "51321.42",
         "542",
         "13410229.0",
         "0",
         "$ 0",
         "0.10463856421354145",
         "0.8953614357864585",
         "12007001.891665203"
        ],
        [
         "3",
         "0",
         "2",
         "11331.48",
         "23544.06",
         "619",
         "17369018.0",
         "1",
         "$ 9,059,520",
         "0.12134714579563965",
         "0.8786528542043603",
         "15261337.240426911"
        ],
        [
         "4",
         "1",
         "3",
         "10146.78",
         "27220.55",
         "654",
         "2493060.0",
         "0",
         "$ 0",
         "0.12334432598924885",
         "0.8766556740107512",
         "2185555.1946492433"
        ]
       ],
       "shape": {
        "columns": 11,
        "rows": 5
       }
      },
      "text/html": [
       "<div>\n",
       "<style scoped>\n",
       "    .dataframe tbody tr th:only-of-type {\n",
       "        vertical-align: middle;\n",
       "    }\n",
       "\n",
       "    .dataframe tbody tr th {\n",
       "        vertical-align: top;\n",
       "    }\n",
       "\n",
       "    .dataframe thead th {\n",
       "        text-align: right;\n",
       "    }\n",
       "</style>\n",
       "<table border=\"1\" class=\"dataframe\">\n",
       "  <thead>\n",
       "    <tr style=\"text-align: right;\">\n",
       "      <th></th>\n",
       "      <th>education</th>\n",
       "      <th>city</th>\n",
       "      <th>monthly_income</th>\n",
       "      <th>current_assets</th>\n",
       "      <th>credit_score</th>\n",
       "      <th>Monto</th>\n",
       "      <th>paid_in_full</th>\n",
       "      <th>loss</th>\n",
       "      <th>paid_in_full_likelihood</th>\n",
       "      <th>default_prob</th>\n",
       "      <th>credit_provision</th>\n",
       "    </tr>\n",
       "  </thead>\n",
       "  <tbody>\n",
       "    <tr>\n",
       "      <th>0</th>\n",
       "      <td>0</td>\n",
       "      <td>0</td>\n",
       "      <td>11474.07</td>\n",
       "      <td>40530.37</td>\n",
       "      <td>611</td>\n",
       "      <td>6599489.0</td>\n",
       "      <td>0</td>\n",
       "      <td>$ 0</td>\n",
       "      <td>0.301819</td>\n",
       "      <td>0.698181</td>\n",
       "      <td>4.607640e+06</td>\n",
       "    </tr>\n",
       "    <tr>\n",
       "      <th>1</th>\n",
       "      <td>1</td>\n",
       "      <td>0</td>\n",
       "      <td>16686.98</td>\n",
       "      <td>61403.51</td>\n",
       "      <td>765</td>\n",
       "      <td>7466025.0</td>\n",
       "      <td>1</td>\n",
       "      <td>$ 5,606,767</td>\n",
       "      <td>0.785426</td>\n",
       "      <td>0.214574</td>\n",
       "      <td>1.602016e+06</td>\n",
       "    </tr>\n",
       "    <tr>\n",
       "      <th>2</th>\n",
       "      <td>0</td>\n",
       "      <td>1</td>\n",
       "      <td>9928.97</td>\n",
       "      <td>51321.42</td>\n",
       "      <td>542</td>\n",
       "      <td>13410229.0</td>\n",
       "      <td>0</td>\n",
       "      <td>$ 0</td>\n",
       "      <td>0.104639</td>\n",
       "      <td>0.895361</td>\n",
       "      <td>1.200700e+07</td>\n",
       "    </tr>\n",
       "    <tr>\n",
       "      <th>3</th>\n",
       "      <td>0</td>\n",
       "      <td>2</td>\n",
       "      <td>11331.48</td>\n",
       "      <td>23544.06</td>\n",
       "      <td>619</td>\n",
       "      <td>17369018.0</td>\n",
       "      <td>1</td>\n",
       "      <td>$ 9,059,520</td>\n",
       "      <td>0.121347</td>\n",
       "      <td>0.878653</td>\n",
       "      <td>1.526134e+07</td>\n",
       "    </tr>\n",
       "    <tr>\n",
       "      <th>4</th>\n",
       "      <td>1</td>\n",
       "      <td>3</td>\n",
       "      <td>10146.78</td>\n",
       "      <td>27220.55</td>\n",
       "      <td>654</td>\n",
       "      <td>2493060.0</td>\n",
       "      <td>0</td>\n",
       "      <td>$ 0</td>\n",
       "      <td>0.123344</td>\n",
       "      <td>0.876656</td>\n",
       "      <td>2.185555e+06</td>\n",
       "    </tr>\n",
       "  </tbody>\n",
       "</table>\n",
       "</div>"
      ],
      "text/plain": [
       "   education  city  monthly_income  current_assets  credit_score       Monto  \\\n",
       "0          0     0        11474.07        40530.37           611   6599489.0   \n",
       "1          1     0        16686.98        61403.51           765   7466025.0   \n",
       "2          0     1         9928.97        51321.42           542  13410229.0   \n",
       "3          0     2        11331.48        23544.06           619  17369018.0   \n",
       "4          1     3        10146.78        27220.55           654   2493060.0   \n",
       "\n",
       "   paid_in_full         loss  paid_in_full_likelihood  default_prob  \\\n",
       "0             0          $ 0                 0.301819      0.698181   \n",
       "1             1  $ 5,606,767                 0.785426      0.214574   \n",
       "2             0          $ 0                 0.104639      0.895361   \n",
       "3             1  $ 9,059,520                 0.121347      0.878653   \n",
       "4             0          $ 0                 0.123344      0.876656   \n",
       "\n",
       "   credit_provision  \n",
       "0      4.607640e+06  \n",
       "1      1.602016e+06  \n",
       "2      1.200700e+07  \n",
       "3      1.526134e+07  \n",
       "4      2.185555e+06  "
      ]
     },
     "execution_count": 76,
     "metadata": {},
     "output_type": "execute_result"
    }
   ],
   "source": [
    "df_processed.head()"
   ]
  },
  {
   "cell_type": "code",
   "execution_count": null,
   "id": "8fe28a22",
   "metadata": {},
   "outputs": [],
   "source": [
    "historical_loss = df_processed['credit_provision'].sum()\n",
    "current_credit_prov = df_current['credit_provision'].sum()"
   ]
  },
  {
   "cell_type": "code",
   "execution_count": null,
   "id": "f3e4c7e2",
   "metadata": {},
   "outputs": [
    {
     "name": "stdout",
     "output_type": "stream",
     "text": [
      "========================================\n",
      "Historical Loss and Current Credit Provision\n",
      "========================================\n",
      "Historical Loss: $5,298,989,927.29\n",
      "Current Credit Provision: $2,312,186,611.28\n",
      "========================================\n"
     ]
    }
   ],
   "source": [
    "print(f\"{'='*40}\")\n",
    "print(f\"{'Historical Loss and Current Credit Provision':^40}\")\n",
    "print(f\"{'='*40}\")\n",
    "print(f\"Historical Loss: ${historical_loss:,.2f}\")\n",
    "print(f\"Current Credit Provision: ${current_credit_prov:,.2f}\")\n",
    "print(f\"{'='*40}\")\n"
   ]
  },
  {
   "cell_type": "code",
   "execution_count": null,
   "id": "98b37342",
   "metadata": {},
   "outputs": [],
   "source": [
    "# Statistics\n",
    "\n",
    "prov_mean = df_processed['credit_provision'].mean()\n",
    "prov_median = df_processed['credit_provision'].median()"
   ]
  },
  {
   "cell_type": "code",
   "execution_count": null,
   "id": "8f1ccc18",
   "metadata": {},
   "outputs": [
    {
     "name": "stdout",
     "output_type": "stream",
     "text": [
      "========================================\n",
      "      Credit Provision Statistics       \n",
      "========================================\n",
      "Mean Credit Provision:   $7,569,985.61\n",
      "Median Credit Provision: $6,624,960.65\n",
      "========================================\n"
     ]
    }
   ],
   "source": [
    "print(f\"{'='*40}\")\n",
    "print(f\"{'Credit Provision Statistics':^40}\")\n",
    "print(f\"{'='*40}\")\n",
    "print(f\"Mean Credit Provision:   ${prov_mean:,.2f}\")\n",
    "print(f\"Median Credit Provision: ${prov_median:,.2f}\")\n",
    "print(f\"{'='*40}\")\n"
   ]
  },
  {
   "cell_type": "code",
   "execution_count": null,
   "id": "ae5db5d5",
   "metadata": {},
   "outputs": [
    {
     "data": {
      "application/vnd.microsoft.datawrangler.viewer.v0+json": {
       "columns": [
        {
         "name": "index",
         "rawType": "int64",
         "type": "integer"
        },
        {
         "name": "Statistic",
         "rawType": "object",
         "type": "string"
        },
        {
         "name": "Value",
         "rawType": "float64",
         "type": "float"
        }
       ],
       "conversionMethod": "pd.DataFrame",
       "ref": "3e958c78-c6fb-4ebf-93f3-86f69eb47c02",
       "rows": [
        [
         "0",
         "Historical Loss",
         "5298989927.286742"
        ],
        [
         "1",
         "Current Credit Provision",
         "2312186611.277911"
        ],
        [
         "2",
         "Mean Credit Provision",
         "7569985.610409631"
        ],
        [
         "3",
         "Median Credit Provision",
         "6624960.650609394"
        ]
       ],
       "shape": {
        "columns": 2,
        "rows": 4
       }
      },
      "text/html": [
       "<div>\n",
       "<style scoped>\n",
       "    .dataframe tbody tr th:only-of-type {\n",
       "        vertical-align: middle;\n",
       "    }\n",
       "\n",
       "    .dataframe tbody tr th {\n",
       "        vertical-align: top;\n",
       "    }\n",
       "\n",
       "    .dataframe thead th {\n",
       "        text-align: right;\n",
       "    }\n",
       "</style>\n",
       "<table border=\"1\" class=\"dataframe\">\n",
       "  <thead>\n",
       "    <tr style=\"text-align: right;\">\n",
       "      <th></th>\n",
       "      <th>Statistic</th>\n",
       "      <th>Value</th>\n",
       "    </tr>\n",
       "  </thead>\n",
       "  <tbody>\n",
       "    <tr>\n",
       "      <th>0</th>\n",
       "      <td>Historical Loss</td>\n",
       "      <td>5.298990e+09</td>\n",
       "    </tr>\n",
       "    <tr>\n",
       "      <th>1</th>\n",
       "      <td>Current Credit Provision</td>\n",
       "      <td>2.312187e+09</td>\n",
       "    </tr>\n",
       "    <tr>\n",
       "      <th>2</th>\n",
       "      <td>Mean Credit Provision</td>\n",
       "      <td>7.569986e+06</td>\n",
       "    </tr>\n",
       "    <tr>\n",
       "      <th>3</th>\n",
       "      <td>Median Credit Provision</td>\n",
       "      <td>6.624961e+06</td>\n",
       "    </tr>\n",
       "  </tbody>\n",
       "</table>\n",
       "</div>"
      ],
      "text/plain": [
       "                  Statistic         Value\n",
       "0           Historical Loss  5.298990e+09\n",
       "1  Current Credit Provision  2.312187e+09\n",
       "2     Mean Credit Provision  7.569986e+06\n",
       "3   Median Credit Provision  6.624961e+06"
      ]
     },
     "execution_count": 81,
     "metadata": {},
     "output_type": "execute_result"
    }
   ],
   "source": [
    "import pandas as pd\n",
    "\n",
    "# Cálculo de estadísticas\n",
    "historical_loss = df_processed['credit_provision'].sum()\n",
    "current_credit_prov = df_current['credit_provision'].sum()\n",
    "prov_mean = df_processed['credit_provision'].mean()\n",
    "prov_median = df_processed['credit_provision'].median()\n",
    "\n",
    "stats_dict = {\n",
    "    'Statistic': ['Historical Loss', 'Current Credit Provision', 'Mean Credit Provision', 'Median Credit Provision'],\n",
    "    'Value': [historical_loss, current_credit_prov, prov_mean, prov_median]\n",
    "}\n",
    "\n",
    "stats_df = pd.DataFrame(stats_dict)\n",
    "\n",
    "stats_df"
   ]
  },
  {
   "cell_type": "code",
   "execution_count": null,
   "id": "5bf396d2",
   "metadata": {},
   "outputs": [],
   "source": [
    "stats_df.to_csv(\"../data/final_statistics.csv\", index=False)"
   ]
  },
  {
   "cell_type": "code",
   "execution_count": null,
   "id": "454a82af",
   "metadata": {},
   "outputs": [],
   "source": []
  }
 ],
 "metadata": {
  "kernelspec": {
   "display_name": ".venv",
   "language": "python",
   "name": "python3"
  },
  "language_info": {
   "codemirror_mode": {
    "name": "ipython",
    "version": 3
   },
   "file_extension": ".py",
   "mimetype": "text/x-python",
   "name": "python",
   "nbconvert_exporter": "python",
   "pygments_lexer": "ipython3",
   "version": "3.11.11"
  }
 },
 "nbformat": 4,
 "nbformat_minor": 5
}
